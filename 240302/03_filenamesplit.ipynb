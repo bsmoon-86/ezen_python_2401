{
 "cells": [
  {
   "cell_type": "code",
   "execution_count": 2,
   "metadata": {},
   "outputs": [],
   "source": [
    "import os\n",
    "from glob import glob"
   ]
  },
  {
   "cell_type": "code",
   "execution_count": 5,
   "metadata": {},
   "outputs": [],
   "source": [
    "csv_files = glob(\"../csv/*.csv\")"
   ]
  },
  {
   "cell_type": "code",
   "execution_count": null,
   "metadata": {},
   "outputs": [],
   "source": [
    "os.listdir(\"../csv/\")"
   ]
  },
  {
   "cell_type": "code",
   "execution_count": 9,
   "metadata": {},
   "outputs": [],
   "source": [
    "file_list = []\n",
    "# 경로와 파일을 나눠준다. \n",
    "for file in csv_files:\n",
    "    # print(file)\n",
    "    # 경로와 파일을 나눠준다\n",
    "    folder, full_name =  os.path.split(file)\n",
    "    # print(full_name)\n",
    "    # 파일의 이름과 확장자를 나눠준다. \n",
    "    name, end = os.path.splitext(full_name)\n",
    "    # print(name, \"-----\", end)\n",
    "    # 파일 이름에서 특정 문자가 포함되어 있는 경우 \n",
    "    if 'e' in name:\n",
    "        file_list.append(name)"
   ]
  },
  {
   "cell_type": "code",
   "execution_count": 10,
   "metadata": {},
   "outputs": [
    {
     "data": {
      "text/plain": [
       "['campaign_master',\n",
       " 'class_master',\n",
       " 'csv_exam',\n",
       " 'customer_master',\n",
       " 'dept',\n",
       " 'emp',\n",
       " 'example',\n",
       " 'item_master',\n",
       " 'Sales Records',\n",
       " 'uriage',\n",
       " 'use_log']"
      ]
     },
     "execution_count": 10,
     "metadata": {},
     "output_type": "execute_result"
    }
   ],
   "source": [
    "file_list"
   ]
  }
 ],
 "metadata": {
  "kernelspec": {
   "display_name": "Python 3",
   "language": "python",
   "name": "python3"
  },
  "language_info": {
   "codemirror_mode": {
    "name": "ipython",
    "version": 3
   },
   "file_extension": ".py",
   "mimetype": "text/x-python",
   "name": "python",
   "nbconvert_exporter": "python",
   "pygments_lexer": "ipython3",
   "version": "3.11.4"
  }
 },
 "nbformat": 4,
 "nbformat_minor": 2
}
