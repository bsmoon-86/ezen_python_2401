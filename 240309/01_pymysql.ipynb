{
 "cells": [
  {
   "cell_type": "markdown",
   "metadata": {},
   "source": [
    "### python과 mysql을 연동 \n",
    "1. 외부의 라이브러리 설치 (pymysql)\n",
    "2. 라이브러리 로드 \n",
    "3. sql 서버의 정보를 등록하여 접속 \n",
    "4. sql 쿼리문을 작성하여 sql 서버에 쿼리문을 요청 \n",
    "5. 쿼리문에 따라서 응답 메시지 출력"
   ]
  },
  {
   "cell_type": "code",
   "execution_count": null,
   "metadata": {},
   "outputs": [],
   "source": [
    "# 라이브러리 설치 \n",
    "!pip install pymysql"
   ]
  },
  {
   "cell_type": "code",
   "execution_count": null,
   "metadata": {},
   "outputs": [],
   "source": [
    "# 라이브러리 로드 \n",
    "import pymysql"
   ]
  },
  {
   "cell_type": "code",
   "execution_count": null,
   "metadata": {},
   "outputs": [],
   "source": [
    "# sql 서버의 정보를 입력 -> 접속\n",
    "# 내 컴퓨터에 연결 \n",
    "_db = pymysql.connect(\n",
    "    host = '127.0.0.1', \n",
    "    port = 3306, \n",
    "    user = 'root', \n",
    "    password = '1234', \n",
    "    db = 'ezen'\n",
    ")"
   ]
  },
  {
   "cell_type": "code",
   "execution_count": null,
   "metadata": {},
   "outputs": [],
   "source": [
    "## Cursor 생성 \n",
    "# DictCursor로 cursor 생성 \n",
    "cursor = _db.cursor(pymysql.cursors.DictCursor)\n",
    "# 기본 값 사용\n",
    "cursor2 = _db.cursor()"
   ]
  },
  {
   "cell_type": "code",
   "execution_count": null,
   "metadata": {},
   "outputs": [],
   "source": [
    "# sql 쿼리문을 작성 \n",
    "sql = \"\"\"\n",
    "    select \n",
    "    * \n",
    "    from \n",
    "    emp\n",
    "\"\"\""
   ]
  },
  {
   "cell_type": "code",
   "execution_count": null,
   "metadata": {},
   "outputs": [],
   "source": [
    "# 쿼리문을 DB server에 요청 \n",
    "cursor.execute(sql)"
   ]
  },
  {
   "cell_type": "code",
   "execution_count": null,
   "metadata": {},
   "outputs": [],
   "source": [
    "data = cursor.fetchall()\n",
    "data"
   ]
  },
  {
   "cell_type": "code",
   "execution_count": null,
   "metadata": {},
   "outputs": [],
   "source": [
    "cursor2.execute(sql)"
   ]
  },
  {
   "cell_type": "code",
   "execution_count": null,
   "metadata": {},
   "outputs": [],
   "source": [
    "data2 = cursor2.fetchall()\n",
    "data2"
   ]
  },
  {
   "cell_type": "code",
   "execution_count": null,
   "metadata": {},
   "outputs": [],
   "source": [
    "import pandas as pd"
   ]
  },
  {
   "cell_type": "code",
   "execution_count": null,
   "metadata": {},
   "outputs": [],
   "source": [
    "pd.DataFrame(data)"
   ]
  },
  {
   "cell_type": "code",
   "execution_count": null,
   "metadata": {},
   "outputs": [],
   "source": [
    "pd.DataFrame(data2)"
   ]
  },
  {
   "cell_type": "code",
   "execution_count": null,
   "metadata": {},
   "outputs": [],
   "source": [
    "# 데이터를 추가 \n",
    "sql = \"\"\"\n",
    "    insert into \n",
    "    emp \n",
    "    values \n",
    "    (1111, 'test', 'SALESMAN', 1111, '1980-01-01', 1000, 0, 10)\n",
    "\"\"\""
   ]
  },
  {
   "cell_type": "code",
   "execution_count": null,
   "metadata": {},
   "outputs": [],
   "source": [
    "cursor.execute(sql)"
   ]
  },
  {
   "cell_type": "code",
   "execution_count": null,
   "metadata": {},
   "outputs": [],
   "source": [
    "cursor.fetchall()"
   ]
  },
  {
   "cell_type": "code",
   "execution_count": null,
   "metadata": {},
   "outputs": [],
   "source": [
    "select_sql = \"\"\"\n",
    "    select * from emp\n",
    "\"\"\""
   ]
  },
  {
   "cell_type": "code",
   "execution_count": null,
   "metadata": {},
   "outputs": [],
   "source": [
    "cursor.execute(select_sql)\n",
    "data = cursor.fetchall()\n",
    "pd.DataFrame(data)"
   ]
  },
  {
   "cell_type": "code",
   "execution_count": null,
   "metadata": {},
   "outputs": [],
   "source": [
    "# cursor의 데이터를 db server에 동기화 \n",
    "_db.commit()"
   ]
  },
  {
   "cell_type": "markdown",
   "metadata": {},
   "source": [
    "- sql 쿼리문이 select인 경우\n",
    "    - cursor.execute()\n",
    "    - cursor.fetchall()\n",
    "- sql 쿼리문이 select가 아닌 경우 \n",
    "    - cursor.execute()\n",
    "    - _db.commit()"
   ]
  },
  {
   "cell_type": "code",
   "execution_count": null,
   "metadata": {},
   "outputs": [],
   "source": [
    "select_query = \"\"\"\n",
    "    select * from emp\n",
    "\"\"\"\n",
    "update_query = \"\"\"\n",
    "    update emp_selector set SAL = 1100 where ENAME='test'\n",
    "\"\"\""
   ]
  },
  {
   "cell_type": "code",
   "execution_count": null,
   "metadata": {},
   "outputs": [],
   "source": [
    "print(select_sql.find('select'))\n",
    "print(update_query.find('select'))"
   ]
  },
  {
   "cell_type": "code",
   "execution_count": null,
   "metadata": {},
   "outputs": [],
   "source": [
    "print('select' in select_query)\n",
    "print('select' in update_query)"
   ]
  },
  {
   "cell_type": "code",
   "execution_count": null,
   "metadata": {},
   "outputs": [],
   "source": [
    "select_query.strip().startswith('select')"
   ]
  },
  {
   "cell_type": "code",
   "execution_count": null,
   "metadata": {},
   "outputs": [],
   "source": [
    "update_query.split()[0] == 'select'"
   ]
  },
  {
   "cell_type": "code",
   "execution_count": null,
   "metadata": {},
   "outputs": [],
   "source": [
    "delete_query = \"\"\"\n",
    "    delete from emp where ENAME = %s\n",
    "\"\"\"\n",
    "input_ename = input('삭제할 사원의 이름을 입력하시오 : ')\n",
    "\n",
    "cursor.execute(delete_query, [input_ename])"
   ]
  },
  {
   "cell_type": "code",
   "execution_count": null,
   "metadata": {},
   "outputs": [],
   "source": [
    "_db.commit()"
   ]
  },
  {
   "cell_type": "markdown",
   "metadata": {},
   "source": [
    "### query를 실행하는 함수를 생성 \n",
    "- 매개변수 2개를 사용 ( query, *data )\n",
    "- query 매개변수가 select로 시작한다면\n",
    "- cursor.execute(query, data) -> cursor.fetchall() -> 데이터프레임을 생성하여 리턴\n",
    "- select로 시작하지 않는다면 \n",
    "- cursor.execute(query, data) -> _db.commit() -> \"Query OK\" 문자열을 리턴"
   ]
  },
  {
   "cell_type": "code",
   "execution_count": null,
   "metadata": {},
   "outputs": [],
   "source": [
    "def sql_query( query, *data ):\n",
    "    cursor.execute(query, data)\n",
    "    # query의 시작이 select라면?\n",
    "    if query.upper().split()[0] == 'SELECT':\n",
    "        data = cursor.fetchall()\n",
    "        result = pd.DataFrame(data)\n",
    "    else:\n",
    "        _db.commit()\n",
    "        result = \"Query OK\"\n",
    "    return result"
   ]
  },
  {
   "cell_type": "code",
   "execution_count": null,
   "metadata": {},
   "outputs": [],
   "source": [
    "# emp 테이블에서 SAL가 2000 이상한 사원의 정보를 확인 \n",
    "select1 = \"\"\"\n",
    "    select * from emp where SAL >= 2000\n",
    "\"\"\"\n",
    "sql_query(select1)"
   ]
  },
  {
   "cell_type": "code",
   "execution_count": null,
   "metadata": {},
   "outputs": [],
   "source": [
    "# emp에서 SAL이 1500 이상이고 3000 이하인 사원의 정보를 출력 \n",
    "# case1\n",
    "select2 = \"\"\"\n",
    "    select * from emp where SAL >= 1500 and SAL <= 3000\n",
    "\"\"\"\n",
    "sql_query(select2)"
   ]
  },
  {
   "cell_type": "code",
   "execution_count": null,
   "metadata": {},
   "outputs": [],
   "source": [
    "select3 = \"\"\"\n",
    "    select * from emp where SAL between 1500 and 3000\n",
    "\"\"\"\n",
    "sql_query(select3)"
   ]
  },
  {
   "cell_type": "code",
   "execution_count": null,
   "metadata": {},
   "outputs": [],
   "source": [
    "## JOB이 'SALESMAN'이거나 'MANAGER' 인 사원 정보를 출력 \n",
    "# case1\n",
    "select4 = \"\"\"\n",
    "    select * from emp where JOB = 'SALESMAN' OR JOB = 'MANAGER'\n",
    "\"\"\"\n",
    "sql_query(select4)"
   ]
  },
  {
   "cell_type": "code",
   "execution_count": null,
   "metadata": {},
   "outputs": [],
   "source": [
    "# case2\n",
    "select5 = \"\"\"\n",
    "    select * from emp where JOB IN ('SALESMAN', 'MANAGER')\n",
    "\"\"\"\n",
    "sql_query(select5)"
   ]
  },
  {
   "cell_type": "code",
   "execution_count": null,
   "metadata": {},
   "outputs": [],
   "source": [
    "# 사원의 이름이 S로 시작하는 사원 정보를 출력 \n",
    "select6 = \"\"\"\n",
    "    select * from emp where ENAME LIKE \"S%%\"\n",
    "\"\"\"\n",
    "sql_query(select6)"
   ]
  },
  {
   "cell_type": "code",
   "execution_count": null,
   "metadata": {},
   "outputs": [],
   "source": [
    "# 그룹화 \n",
    "# JOB을 기준으로 그룹화하여 SAL 평균을 구한다. \n",
    "select7 = \"\"\"\n",
    "    select JOB as 직무, AVG(SAL) as 평균연봉 from emp group by JOB\n",
    "\"\"\"\n",
    "sql_query(select7)"
   ]
  },
  {
   "cell_type": "code",
   "execution_count": null,
   "metadata": {},
   "outputs": [],
   "source": [
    "## table 결합 \n",
    "## join 결합 (emp, dept)\n",
    "join1 = \"\"\"\n",
    "    select * from emp left join dept on emp.deptno = dept.deptno\n",
    "\"\"\"\n",
    "sql_query(join1)"
   ]
  },
  {
   "cell_type": "code",
   "execution_count": null,
   "metadata": {},
   "outputs": [],
   "source": [
    "## 부서의 지역이 NEW YORK인 사원의 정보를 출력 \n",
    "# join \n",
    "join2 = \"\"\"\n",
    "    select * from emp left join dept \n",
    "    on emp.deptno = dept.deptno where LOC = 'NEW YORK'\n",
    "\"\"\"\n",
    "sql_query(join2)"
   ]
  },
  {
   "cell_type": "code",
   "execution_count": null,
   "metadata": {},
   "outputs": [],
   "source": [
    "select8 = \"\"\"\n",
    "    select deptno from dept where LOC != 'NEW YORK'\n",
    "\"\"\"\n",
    "sql_query(select8)"
   ]
  },
  {
   "cell_type": "code",
   "execution_count": null,
   "metadata": {},
   "outputs": [],
   "source": [
    "# 서브쿼리\n",
    "sub1 = \"\"\"\n",
    "    select * from emp where deptno in (\n",
    "        select deptno from dept where LOC != 'NEW YORK'\n",
    "    )\n",
    "\"\"\"\n",
    "sql_query(sub1)"
   ]
  },
  {
   "cell_type": "code",
   "execution_count": null,
   "metadata": {},
   "outputs": [],
   "source": [
    "import mod_sql as ms"
   ]
  },
  {
   "cell_type": "code",
   "execution_count": null,
   "metadata": {},
   "outputs": [],
   "source": [
    "# ms 안에 있는 Mydb class 생성 \n",
    "# 기본값으로 class 생성 \n",
    "db1 = ms.Mydb()"
   ]
  },
  {
   "cell_type": "code",
   "execution_count": null,
   "metadata": {},
   "outputs": [],
   "source": [
    "db2 = ms.Mydb(\n",
    "    \"moons-86.iptime.org\", \n",
    "    3306, \n",
    "    'ubion', \n",
    "    '1234', \n",
    "    'ubion'\n",
    ")"
   ]
  },
  {
   "cell_type": "code",
   "execution_count": null,
   "metadata": {},
   "outputs": [],
   "source": [
    "sql = \"\"\"\n",
    "    select * from corona\n",
    "\"\"\""
   ]
  },
  {
   "cell_type": "code",
   "execution_count": null,
   "metadata": {},
   "outputs": [],
   "source": [
    "db1.sql_query(sql)"
   ]
  },
  {
   "cell_type": "code",
   "execution_count": null,
   "metadata": {},
   "outputs": [],
   "source": [
    "db2.sql_query(sql)"
   ]
  }
 ],
 "metadata": {
  "kernelspec": {
   "display_name": "Python 3",
   "language": "python",
   "name": "python3"
  },
  "language_info": {
   "codemirror_mode": {
    "name": "ipython",
    "version": 3
   },
   "file_extension": ".py",
   "mimetype": "text/x-python",
   "name": "python",
   "nbconvert_exporter": "python",
   "pygments_lexer": "ipython3",
   "version": "3.11.4"
  }
 },
 "nbformat": 4,
 "nbformat_minor": 2
}
