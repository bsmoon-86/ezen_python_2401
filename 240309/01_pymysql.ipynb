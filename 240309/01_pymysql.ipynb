{
 "cells": [
  {
   "cell_type": "markdown",
   "metadata": {},
   "source": [
    "### python과 mysql을 연동 \n",
    "1. 외부의 라이브러리 설치 (pymysql)\n",
    "2. 라이브러리 로드 \n",
    "3. sql 서버의 정보를 등록하여 접속 \n",
    "4. sql 쿼리문을 작성하여 sql 서버에 쿼리문을 요청 \n",
    "5. 쿼리문에 따라서 응답 메시지 출력"
   ]
  },
  {
   "cell_type": "code",
   "execution_count": null,
   "metadata": {},
   "outputs": [],
   "source": [
    "# 라이브러리 설치 \n",
    "!pip install pymysql"
   ]
  },
  {
   "cell_type": "code",
   "execution_count": 2,
   "metadata": {},
   "outputs": [],
   "source": [
    "# 라이브러리 로드 \n",
    "import pymysql"
   ]
  },
  {
   "cell_type": "code",
   "execution_count": 3,
   "metadata": {},
   "outputs": [],
   "source": [
    "# sql 서버의 정보를 입력 -> 접속\n",
    "# 내 컴퓨터에 연결 \n",
    "_db = pymysql.connect(\n",
    "    host = '127.0.0.1', \n",
    "    port = 3306, \n",
    "    user = 'root', \n",
    "    password = '1234', \n",
    "    db = 'ezen'\n",
    ")"
   ]
  },
  {
   "cell_type": "code",
   "execution_count": 4,
   "metadata": {},
   "outputs": [],
   "source": [
    "## Cursor 생성 \n",
    "# DictCursor로 cursor 생성 \n",
    "cursor = _db.cursor(pymysql.cursors.DictCursor)\n",
    "# 기본 값 사용\n",
    "cursor2 = _db.cursor()"
   ]
  },
  {
   "cell_type": "code",
   "execution_count": null,
   "metadata": {},
   "outputs": [],
   "source": []
  }
 ],
 "metadata": {
  "kernelspec": {
   "display_name": "Python 3",
   "language": "python",
   "name": "python3"
  },
  "language_info": {
   "codemirror_mode": {
    "name": "ipython",
    "version": 3
   },
   "file_extension": ".py",
   "mimetype": "text/x-python",
   "name": "python",
   "nbconvert_exporter": "python",
   "pygments_lexer": "ipython3",
   "version": "3.11.4"
  }
 },
 "nbformat": 4,
 "nbformat_minor": 2
}
