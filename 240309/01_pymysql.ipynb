{
 "cells": [
  {
   "cell_type": "markdown",
   "metadata": {},
   "source": [
    "### python과 mysql을 연동 \n",
    "1. 외부의 라이브러리 설치 (pymysql)\n",
    "2. 라이브러리 로드 \n",
    "3. sql 서버의 정보를 등록하여 접속 \n",
    "4. sql 쿼리문을 작성하여 sql 서버에 쿼리문을 요청 \n",
    "5. 쿼리문에 따라서 응답 메시지 출력"
   ]
  },
  {
   "cell_type": "code",
   "execution_count": null,
   "metadata": {},
   "outputs": [],
   "source": [
    "# 라이브러리 설치 \n",
    "!pip install pymysql"
   ]
  },
  {
   "cell_type": "code",
   "execution_count": 65,
   "metadata": {},
   "outputs": [],
   "source": [
    "# 라이브러리 로드 \n",
    "import pymysql"
   ]
  },
  {
   "cell_type": "code",
   "execution_count": 66,
   "metadata": {},
   "outputs": [],
   "source": [
    "# sql 서버의 정보를 입력 -> 접속\n",
    "# 내 컴퓨터에 연결 \n",
    "_db = pymysql.connect(\n",
    "    host = '127.0.0.1', \n",
    "    port = 3306, \n",
    "    user = 'root', \n",
    "    password = '1234', \n",
    "    db = 'ezen'\n",
    ")"
   ]
  },
  {
   "cell_type": "code",
   "execution_count": null,
   "metadata": {},
   "outputs": [],
   "source": [
    "## Cursor 생성 \n",
    "# DictCursor로 cursor 생성 \n",
    "cursor = _db.cursor(pymysql.cursors.DictCursor)\n",
    "# 기본 값 사용\n",
    "cursor2 = _db.cursor()"
   ]
  },
  {
   "cell_type": "code",
   "execution_count": null,
   "metadata": {},
   "outputs": [],
   "source": [
    "# sql 쿼리문을 작성 \n",
    "sql = \"\"\"\n",
    "    select \n",
    "    * \n",
    "    from \n",
    "    emp\n",
    "\"\"\""
   ]
  },
  {
   "cell_type": "code",
   "execution_count": null,
   "metadata": {},
   "outputs": [],
   "source": [
    "# 쿼리문을 DB server에 요청 \n",
    "cursor.execute(sql)"
   ]
  },
  {
   "cell_type": "code",
   "execution_count": null,
   "metadata": {},
   "outputs": [],
   "source": [
    "data = cursor.fetchall()\n",
    "data"
   ]
  },
  {
   "cell_type": "code",
   "execution_count": null,
   "metadata": {},
   "outputs": [],
   "source": [
    "cursor2.execute(sql)"
   ]
  },
  {
   "cell_type": "code",
   "execution_count": null,
   "metadata": {},
   "outputs": [],
   "source": [
    "data2 = cursor2.fetchall()\n",
    "data2"
   ]
  },
  {
   "cell_type": "code",
   "execution_count": null,
   "metadata": {},
   "outputs": [],
   "source": [
    "import pandas as pd"
   ]
  },
  {
   "cell_type": "code",
   "execution_count": null,
   "metadata": {},
   "outputs": [],
   "source": [
    "pd.DataFrame(data)"
   ]
  },
  {
   "cell_type": "code",
   "execution_count": null,
   "metadata": {},
   "outputs": [],
   "source": [
    "pd.DataFrame(data2)"
   ]
  },
  {
   "cell_type": "code",
   "execution_count": null,
   "metadata": {},
   "outputs": [],
   "source": [
    "# 데이터를 추가 \n",
    "sql = \"\"\"\n",
    "    insert into \n",
    "    emp \n",
    "    values \n",
    "    (1111, 'test', 'SALESMAN', 1111, '1980-01-01', 1000, 0, 10)\n",
    "\"\"\""
   ]
  },
  {
   "cell_type": "code",
   "execution_count": null,
   "metadata": {},
   "outputs": [],
   "source": [
    "cursor.execute(sql)"
   ]
  },
  {
   "cell_type": "code",
   "execution_count": null,
   "metadata": {},
   "outputs": [],
   "source": [
    "cursor.fetchall()"
   ]
  },
  {
   "cell_type": "code",
   "execution_count": null,
   "metadata": {},
   "outputs": [],
   "source": [
    "select_sql = \"\"\"\n",
    "    select * from emp\n",
    "\"\"\""
   ]
  },
  {
   "cell_type": "code",
   "execution_count": null,
   "metadata": {},
   "outputs": [],
   "source": [
    "cursor.execute(select_sql)\n",
    "data = cursor.fetchall()\n",
    "pd.DataFrame(data)"
   ]
  },
  {
   "cell_type": "code",
   "execution_count": null,
   "metadata": {},
   "outputs": [],
   "source": [
    "# cursor의 데이터를 db server에 동기화 \n",
    "_db.commit()"
   ]
  },
  {
   "cell_type": "markdown",
   "metadata": {},
   "source": [
    "- sql 쿼리문이 select인 경우\n",
    "    - cursor.execute()\n",
    "    - cursor.fetchall()\n",
    "- sql 쿼리문이 select가 아닌 경우 \n",
    "    - cursor.execute()\n",
    "    - _db.commit()"
   ]
  },
  {
   "cell_type": "code",
   "execution_count": null,
   "metadata": {},
   "outputs": [],
   "source": [
    "select_query = \"\"\"\n",
    "    select * from emp\n",
    "\"\"\"\n",
    "update_query = \"\"\"\n",
    "    update emp_selector set SAL = 1100 where ENAME='test'\n",
    "\"\"\""
   ]
  },
  {
   "cell_type": "code",
   "execution_count": null,
   "metadata": {},
   "outputs": [],
   "source": [
    "print(select_sql.find('select'))\n",
    "print(update_query.find('select'))"
   ]
  },
  {
   "cell_type": "code",
   "execution_count": null,
   "metadata": {},
   "outputs": [],
   "source": [
    "print('select' in select_query)\n",
    "print('select' in update_query)"
   ]
  },
  {
   "cell_type": "code",
   "execution_count": null,
   "metadata": {},
   "outputs": [],
   "source": [
    "select_query.strip().startswith('select')"
   ]
  },
  {
   "cell_type": "code",
   "execution_count": null,
   "metadata": {},
   "outputs": [],
   "source": [
    "update_query.split()[0] == 'select'"
   ]
  },
  {
   "cell_type": "code",
   "execution_count": null,
   "metadata": {},
   "outputs": [],
   "source": [
    "delete_query = \"\"\"\n",
    "    delete from emp where ENAME = %s\n",
    "\"\"\"\n",
    "input_ename = input('삭제할 사원의 이름을 입력하시오 : ')\n",
    "\n",
    "cursor.execute(delete_query, [input_ename])"
   ]
  },
  {
   "cell_type": "code",
   "execution_count": null,
   "metadata": {},
   "outputs": [],
   "source": [
    "_db.commit()"
   ]
  },
  {
   "cell_type": "markdown",
   "metadata": {},
   "source": [
    "### query를 실행하는 함수를 생성 \n",
    "- 매개변수 2개를 사용 ( query, *data )\n",
    "- query 매개변수가 select로 시작한다면\n",
    "- cursor.execute(query, data) -> cursor.fetchall() -> 데이터프레임을 생성하여 리턴\n",
    "- select로 시작하지 않는다면 \n",
    "- cursor.execute(query, data) -> _db.commit() -> \"Query OK\" 문자열을 리턴"
   ]
  },
  {
   "cell_type": "code",
   "execution_count": null,
   "metadata": {},
   "outputs": [],
   "source": [
    "def sql_query( query, *data ):\n",
    "    cursor.execute(query, data)\n",
    "    # query의 시작이 select라면?\n",
    "    if query.upper().split()[0] == 'SELECT':\n",
    "        data = cursor.fetchall()\n",
    "        result = pd.DataFrame(data)\n",
    "    else:\n",
    "        _db.commit()\n",
    "        result = \"Query OK\"\n",
    "    return result"
   ]
  },
  {
   "cell_type": "code",
   "execution_count": null,
   "metadata": {},
   "outputs": [],
   "source": [
    "# emp 테이블에서 SAL가 2000 이상한 사원의 정보를 확인 \n",
    "select1 = \"\"\"\n",
    "    select * from emp where SAL >= 2000\n",
    "\"\"\"\n",
    "sql_query(select1)"
   ]
  },
  {
   "cell_type": "code",
   "execution_count": null,
   "metadata": {},
   "outputs": [],
   "source": [
    "# emp에서 SAL이 1500 이상이고 3000 이하인 사원의 정보를 출력 \n",
    "# case1\n",
    "select2 = \"\"\"\n",
    "    select * from emp where SAL >= 1500 and SAL <= 3000\n",
    "\"\"\"\n",
    "sql_query(select2)"
   ]
  },
  {
   "cell_type": "code",
   "execution_count": null,
   "metadata": {},
   "outputs": [],
   "source": [
    "select3 = \"\"\"\n",
    "    select * from emp where SAL between 1500 and 3000\n",
    "\"\"\"\n",
    "sql_query(select3)"
   ]
  },
  {
   "cell_type": "code",
   "execution_count": null,
   "metadata": {},
   "outputs": [],
   "source": [
    "## JOB이 'SALESMAN'이거나 'MANAGER' 인 사원 정보를 출력 \n",
    "# case1\n",
    "select4 = \"\"\"\n",
    "    select * from emp where JOB = 'SALESMAN' OR JOB = 'MANAGER'\n",
    "\"\"\"\n",
    "sql_query(select4)"
   ]
  },
  {
   "cell_type": "code",
   "execution_count": null,
   "metadata": {},
   "outputs": [],
   "source": [
    "# case2\n",
    "select5 = \"\"\"\n",
    "    select * from emp where JOB IN ('SALESMAN', 'MANAGER')\n",
    "\"\"\"\n",
    "sql_query(select5)"
   ]
  },
  {
   "cell_type": "code",
   "execution_count": null,
   "metadata": {},
   "outputs": [],
   "source": [
    "# 사원의 이름이 S로 시작하는 사원 정보를 출력 \n",
    "select6 = \"\"\"\n",
    "    select * from emp where ENAME LIKE \"S%%\"\n",
    "\"\"\"\n",
    "sql_query(select6)"
   ]
  },
  {
   "cell_type": "code",
   "execution_count": null,
   "metadata": {},
   "outputs": [],
   "source": [
    "# 그룹화 \n",
    "# JOB을 기준으로 그룹화하여 SAL 평균을 구한다. \n",
    "select7 = \"\"\"\n",
    "    select JOB as 직무, AVG(SAL) as 평균연봉 from emp group by JOB\n",
    "\"\"\"\n",
    "sql_query(select7)"
   ]
  },
  {
   "cell_type": "code",
   "execution_count": null,
   "metadata": {},
   "outputs": [],
   "source": [
    "## table 결합 \n",
    "## join 결합 (emp, dept)\n",
    "join1 = \"\"\"\n",
    "    select * from emp left join dept on emp.deptno = dept.deptno\n",
    "\"\"\"\n",
    "sql_query(join1)"
   ]
  },
  {
   "cell_type": "code",
   "execution_count": null,
   "metadata": {},
   "outputs": [],
   "source": [
    "## 부서의 지역이 NEW YORK인 사원의 정보를 출력 \n",
    "# join \n",
    "join2 = \"\"\"\n",
    "    select * from emp left join dept \n",
    "    on emp.deptno = dept.deptno where LOC = 'NEW YORK'\n",
    "\"\"\"\n",
    "sql_query(join2)"
   ]
  },
  {
   "cell_type": "code",
   "execution_count": null,
   "metadata": {},
   "outputs": [],
   "source": [
    "select8 = \"\"\"\n",
    "    select deptno from dept where LOC != 'NEW YORK'\n",
    "\"\"\"\n",
    "sql_query(select8)"
   ]
  },
  {
   "cell_type": "code",
   "execution_count": null,
   "metadata": {},
   "outputs": [],
   "source": [
    "# 서브쿼리\n",
    "sub1 = \"\"\"\n",
    "    select * from emp where deptno in (\n",
    "        select deptno from dept where LOC != 'NEW YORK'\n",
    "    )\n",
    "\"\"\"\n",
    "sql_query(sub1)"
   ]
  },
  {
   "cell_type": "code",
   "execution_count": null,
   "metadata": {},
   "outputs": [],
   "source": [
    "import mod_sql as ms"
   ]
  },
  {
   "cell_type": "code",
   "execution_count": null,
   "metadata": {},
   "outputs": [],
   "source": [
    "# ms 안에 있는 Mydb class 생성 \n",
    "# 기본값으로 class 생성 \n",
    "db1 = ms.Mydb()"
   ]
  },
  {
   "cell_type": "code",
   "execution_count": null,
   "metadata": {},
   "outputs": [],
   "source": [
    "db2 = ms.Mydb(\n",
    "    \"moons-86.iptime.org\", \n",
    "    3306, \n",
    "    'ubion', \n",
    "    '1234', \n",
    "    'ubion'\n",
    ")"
   ]
  },
  {
   "cell_type": "code",
   "execution_count": null,
   "metadata": {},
   "outputs": [],
   "source": [
    "sql = \"\"\"\n",
    "    select * from corona\n",
    "\"\"\""
   ]
  },
  {
   "cell_type": "code",
   "execution_count": null,
   "metadata": {},
   "outputs": [],
   "source": [
    "db1.sql_query(sql)"
   ]
  },
  {
   "cell_type": "code",
   "execution_count": 64,
   "metadata": {},
   "outputs": [],
   "source": [
    "data = db2.sql_query(sql)"
   ]
  },
  {
   "cell_type": "code",
   "execution_count": null,
   "metadata": {},
   "outputs": [],
   "source": [
    "### sql 유니언 결합\n",
    "# tran_1 table과 tran_2 table을 유니언 결합 \n",
    "union1 = \"\"\"\n",
    "    select * from tran_1\n",
    "    union \n",
    "    select * from tran_2\n",
    "\"\"\"\n",
    "db2.sql_query(union1)"
   ]
  },
  {
   "cell_type": "code",
   "execution_count": 72,
   "metadata": {},
   "outputs": [
    {
     "data": {
      "text/html": [
       "<div>\n",
       "<style scoped>\n",
       "    .dataframe tbody tr th:only-of-type {\n",
       "        vertical-align: middle;\n",
       "    }\n",
       "\n",
       "    .dataframe tbody tr th {\n",
       "        vertical-align: top;\n",
       "    }\n",
       "\n",
       "    .dataframe thead th {\n",
       "        text-align: right;\n",
       "    }\n",
       "</style>\n",
       "<table border=\"1\" class=\"dataframe\">\n",
       "  <thead>\n",
       "    <tr style=\"text-align: right;\">\n",
       "      <th></th>\n",
       "      <th>transaction_id</th>\n",
       "      <th>price</th>\n",
       "      <th>payment_date</th>\n",
       "      <th>customer_id</th>\n",
       "      <th>detail_id</th>\n",
       "      <th>tran_d.transaction_id</th>\n",
       "      <th>item_id</th>\n",
       "      <th>quantity</th>\n",
       "    </tr>\n",
       "  </thead>\n",
       "  <tbody>\n",
       "    <tr>\n",
       "      <th>0</th>\n",
       "      <td>T0000000113</td>\n",
       "      <td>210000</td>\n",
       "      <td>2019-02-01 01:36:57</td>\n",
       "      <td>PL563502</td>\n",
       "      <td>0</td>\n",
       "      <td>T0000000113</td>\n",
       "      <td>S005</td>\n",
       "      <td>1</td>\n",
       "    </tr>\n",
       "    <tr>\n",
       "      <th>1</th>\n",
       "      <td>T0000000114</td>\n",
       "      <td>50000</td>\n",
       "      <td>2019-02-01 01:37:23</td>\n",
       "      <td>HD678019</td>\n",
       "      <td>1</td>\n",
       "      <td>T0000000114</td>\n",
       "      <td>S001</td>\n",
       "      <td>1</td>\n",
       "    </tr>\n",
       "    <tr>\n",
       "      <th>2</th>\n",
       "      <td>T0000000115</td>\n",
       "      <td>120000</td>\n",
       "      <td>2019-02-01 02:34:19</td>\n",
       "      <td>HD298120</td>\n",
       "      <td>2</td>\n",
       "      <td>T0000000115</td>\n",
       "      <td>S003</td>\n",
       "      <td>1</td>\n",
       "    </tr>\n",
       "    <tr>\n",
       "      <th>3</th>\n",
       "      <td>T0000000116</td>\n",
       "      <td>210000</td>\n",
       "      <td>2019-02-01 02:47:23</td>\n",
       "      <td>IK452215</td>\n",
       "      <td>3</td>\n",
       "      <td>T0000000116</td>\n",
       "      <td>S005</td>\n",
       "      <td>1</td>\n",
       "    </tr>\n",
       "    <tr>\n",
       "      <th>4</th>\n",
       "      <td>T0000000117</td>\n",
       "      <td>170000</td>\n",
       "      <td>2019-02-01 04:33:46</td>\n",
       "      <td>PL542865</td>\n",
       "      <td>4</td>\n",
       "      <td>T0000000117</td>\n",
       "      <td>S002</td>\n",
       "      <td>2</td>\n",
       "    </tr>\n",
       "    <tr>\n",
       "      <th>...</th>\n",
       "      <td>...</td>\n",
       "      <td>...</td>\n",
       "      <td>...</td>\n",
       "      <td>...</td>\n",
       "      <td>...</td>\n",
       "      <td>...</td>\n",
       "      <td>...</td>\n",
       "      <td>...</td>\n",
       "    </tr>\n",
       "    <tr>\n",
       "      <th>7139</th>\n",
       "      <td>T0000006887</td>\n",
       "      <td>210000</td>\n",
       "      <td>2019-07-31 19:43:42</td>\n",
       "      <td>AS961301</td>\n",
       "      <td>7132</td>\n",
       "      <td>T0000006887</td>\n",
       "      <td>S005</td>\n",
       "      <td>1</td>\n",
       "    </tr>\n",
       "    <tr>\n",
       "      <th>7140</th>\n",
       "      <td>T0000006888</td>\n",
       "      <td>210000</td>\n",
       "      <td>2019-07-31 20:05:45</td>\n",
       "      <td>GD025393</td>\n",
       "      <td>7133</td>\n",
       "      <td>T0000006888</td>\n",
       "      <td>S005</td>\n",
       "      <td>1</td>\n",
       "    </tr>\n",
       "    <tr>\n",
       "      <th>7141</th>\n",
       "      <td>T0000006891</td>\n",
       "      <td>50000</td>\n",
       "      <td>2019-07-31 20:28:20</td>\n",
       "      <td>HI337854</td>\n",
       "      <td>7136</td>\n",
       "      <td>T0000006891</td>\n",
       "      <td>S001</td>\n",
       "      <td>1</td>\n",
       "    </tr>\n",
       "    <tr>\n",
       "      <th>7142</th>\n",
       "      <td>T0000006894</td>\n",
       "      <td>180000</td>\n",
       "      <td>2019-07-31 21:20:44</td>\n",
       "      <td>HI400734</td>\n",
       "      <td>7139</td>\n",
       "      <td>T0000006894</td>\n",
       "      <td>S004</td>\n",
       "      <td>1</td>\n",
       "    </tr>\n",
       "    <tr>\n",
       "      <th>7143</th>\n",
       "      <td>T0000006895</td>\n",
       "      <td>85000</td>\n",
       "      <td>2019-07-31 21:52:48</td>\n",
       "      <td>AS339451</td>\n",
       "      <td>7140</td>\n",
       "      <td>T0000006895</td>\n",
       "      <td>S002</td>\n",
       "      <td>1</td>\n",
       "    </tr>\n",
       "  </tbody>\n",
       "</table>\n",
       "<p>7144 rows × 8 columns</p>\n",
       "</div>"
      ],
      "text/plain": [
       "     transaction_id   price         payment_date customer_id  detail_id  \\\n",
       "0       T0000000113  210000  2019-02-01 01:36:57    PL563502          0   \n",
       "1       T0000000114   50000  2019-02-01 01:37:23    HD678019          1   \n",
       "2       T0000000115  120000  2019-02-01 02:34:19    HD298120          2   \n",
       "3       T0000000116  210000  2019-02-01 02:47:23    IK452215          3   \n",
       "4       T0000000117  170000  2019-02-01 04:33:46    PL542865          4   \n",
       "...             ...     ...                  ...         ...        ...   \n",
       "7139    T0000006887  210000  2019-07-31 19:43:42    AS961301       7132   \n",
       "7140    T0000006888  210000  2019-07-31 20:05:45    GD025393       7133   \n",
       "7141    T0000006891   50000  2019-07-31 20:28:20    HI337854       7136   \n",
       "7142    T0000006894  180000  2019-07-31 21:20:44    HI400734       7139   \n",
       "7143    T0000006895   85000  2019-07-31 21:52:48    AS339451       7140   \n",
       "\n",
       "     tran_d.transaction_id item_id  quantity  \n",
       "0              T0000000113    S005         1  \n",
       "1              T0000000114    S001         1  \n",
       "2              T0000000115    S003         1  \n",
       "3              T0000000116    S005         1  \n",
       "4              T0000000117    S002         2  \n",
       "...                    ...     ...       ...  \n",
       "7139           T0000006887    S005         1  \n",
       "7140           T0000006888    S005         1  \n",
       "7141           T0000006891    S001         1  \n",
       "7142           T0000006894    S004         1  \n",
       "7143           T0000006895    S002         1  \n",
       "\n",
       "[7144 rows x 8 columns]"
      ]
     },
     "execution_count": 72,
     "metadata": {},
     "output_type": "execute_result"
    }
   ],
   "source": [
    "union2 = \"\"\"\n",
    "    select * from \n",
    "    (select * from tran_1\n",
    "    union \n",
    "    select * from tran_2) as tran \n",
    "    left join \n",
    "    (select * from tran_d_1\n",
    "    union \n",
    "    select * from tran_d_2) as tran_d\n",
    "    on tran.transaction_id = tran_d.transaction_id\n",
    "\"\"\"\n",
    "db2.sql_query(union2)"
   ]
  }
 ],
 "metadata": {
  "kernelspec": {
   "display_name": "Python 3",
   "language": "python",
   "name": "python3"
  },
  "language_info": {
   "codemirror_mode": {
    "name": "ipython",
    "version": 3
   },
   "file_extension": ".py",
   "mimetype": "text/x-python",
   "name": "python",
   "nbconvert_exporter": "python",
   "pygments_lexer": "ipython3",
   "version": "3.11.4"
  }
 },
 "nbformat": 4,
 "nbformat_minor": 2
}
