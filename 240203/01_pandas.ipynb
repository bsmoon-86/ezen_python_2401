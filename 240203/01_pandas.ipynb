{
 "cells": [
  {
   "cell_type": "code",
   "execution_count": null,
   "metadata": {},
   "outputs": [],
   "source": [
    "## 라이브러리 로드 \n",
    "import pandas as pd"
   ]
  },
  {
   "cell_type": "markdown",
   "metadata": {},
   "source": [
    "### 파일의 경로 \n",
    "- 절대 경로\n",
    "    - 절대적인 주소 값\n",
    "    - 환경이 변경이 되더라도 같은 위치를 지정\n",
    "    - ex) c:/users/admin/a.txt, https://www.google.com\n",
    "- 상대 경로\n",
    "    - 상대적인 주소 값\n",
    "    - 환경이 변경되었을 때 위치도 변경 \n",
    "    - ex)\n",
    "        - ./ : 현재 작업중인 디렉토리\n",
    "        - ../ : 현재 디렉토리에서 상위 폴더로 이동\n",
    "        - 폴더명/ : 해당 디렉토리로 이동"
   ]
  },
  {
   "cell_type": "markdown",
   "metadata": {},
   "source": [
    "### 외부의 데이터 파일을 로드 \n",
    "- csv \n",
    "    - ','로 이루어진 데이터\n",
    "    - read_csv()\n",
    "- json\n",
    "    - json 데이터는 dict와 흡사\n",
    "    - read_json()\n",
    "- excel\n",
    "    - read_excel()\n",
    "    - xls, xlsx 파일 확장자에 따라서 추가적인 라이브러리 설치 \n",
    "- xml\n",
    "    - read_xml()"
   ]
  },
  {
   "cell_type": "code",
   "execution_count": null,
   "metadata": {},
   "outputs": [],
   "source": [
    "## 외부의 csv 파일을 로드 \n",
    "## 상대 경로 \n",
    "## 상위 폴더로 이동(../) -> csv라는 하위폴더로 이동(csv/) -> corona.csv\n",
    "df = pd.read_csv(\"../corona.csv\")\n",
    "df"
   ]
  },
  {
   "cell_type": "code",
   "execution_count": null,
   "metadata": {},
   "outputs": [],
   "source": [
    "## 절대 경로 사용\n",
    "df2 = pd.read_csv(\"D:\\\\python\\\\ezen_python_2401\\\\csv\\\\corona.csv\")\n",
    "df2"
   ]
  },
  {
   "cell_type": "code",
   "execution_count": null,
   "metadata": {},
   "outputs": [],
   "source": [
    "# 데이터프레임의 상위 데이터들 추출\n",
    "df.head(2)"
   ]
  },
  {
   "cell_type": "code",
   "execution_count": null,
   "metadata": {},
   "outputs": [],
   "source": [
    "# 데이터프레임의 하위 데이터들 추출\n",
    "df.tail()"
   ]
  },
  {
   "cell_type": "code",
   "execution_count": null,
   "metadata": {},
   "outputs": [],
   "source": [
    "# 데이터프레임의 정보를 출력\n",
    "df.info()"
   ]
  },
  {
   "cell_type": "code",
   "execution_count": null,
   "metadata": {},
   "outputs": [],
   "source": [
    "## 데이터프레임에서 결측치의 개수를 확인\n",
    "df.isna().sum()"
   ]
  },
  {
   "cell_type": "code",
   "execution_count": null,
   "metadata": {},
   "outputs": [],
   "source": [
    "a = df.isna()"
   ]
  },
  {
   "cell_type": "code",
   "execution_count": null,
   "metadata": {},
   "outputs": [],
   "source": [
    "a.sum(axis=1)"
   ]
  },
  {
   "cell_type": "code",
   "execution_count": null,
   "metadata": {},
   "outputs": [],
   "source": [
    "## 결측치를 제거 \n",
    "# dropna(axis = {0('rows') | 1('columns')})\n",
    "\n",
    "# 행을 기준으로 결측치를 제거 \n",
    "df.dropna(axis=0)"
   ]
  },
  {
   "cell_type": "code",
   "execution_count": null,
   "metadata": {},
   "outputs": [],
   "source": [
    "# 열을 기준으로 결측치를 제거 \n",
    "df.dropna(axis='columns')"
   ]
  },
  {
   "cell_type": "code",
   "execution_count": null,
   "metadata": {},
   "outputs": [],
   "source": [
    "## 결측치를 특정한 데이터로 치환\n",
    "# fillna({data}) : 특정한 데이터로 결측치를 치환\n",
    "# fillna(method = {'ffill' | 'bfill'})\n",
    "\n",
    "df.fillna(10).head()"
   ]
  },
  {
   "cell_type": "code",
   "execution_count": null,
   "metadata": {},
   "outputs": [],
   "source": [
    "df.fillna(method='ffill').head()"
   ]
  },
  {
   "cell_type": "code",
   "execution_count": null,
   "metadata": {},
   "outputs": [],
   "source": [
    "df.fillna(method='bfill').head()"
   ]
  },
  {
   "cell_type": "code",
   "execution_count": null,
   "metadata": {},
   "outputs": [],
   "source": [
    "## 데이터프레임의 통계요약정보 \n",
    "df.describe()"
   ]
  },
  {
   "cell_type": "markdown",
   "metadata": {},
   "source": [
    "### 데이터프레임 필터\n",
    "1. loc[{인덱스의 조건}, {컬럼의 조건}]\n",
    "    - 인덱스의 값을 기준으로 데이터프레임 필터 \n",
    "    - 컬럼의 값을 기준으로 데이터프레임 필터 \n",
    "    - 인덱스와 컬럼의 조건식은 이용하여 데이터프레임 필터 \n",
    "2. iloc[{인덱스의 위치}, {컬럼의 위치}]\n",
    "    - 인덱스나 컬럼의 위치를 기준으로 데이터프레임 필터"
   ]
  },
  {
   "cell_type": "code",
   "execution_count": null,
   "metadata": {},
   "outputs": [],
   "source": [
    "# 데이터프레임에서 특정한 데이터를 제거 \n",
    "# drop( {조건} , axis = {0(rows) | 1(columns)}, inplace = {bool} )\n",
    "# 데이터프레임명.drop()\n",
    "# axis : 기준 -> 행을 지울것이냐? 열을 지울것이냐?\n",
    "# inplace : 참 / 거짓 형태의 데이터를 입력 \n",
    "#   참 : 기준이 되는 데이터프레임을 변경\n",
    "#   거짓 : 기준이 되는 데이터프레임을 변경하지 않고 결과를 출력 (기본값)\n",
    "\n",
    "# df에서 Unnamed: 0 컬럼을 제거 \n",
    "# df = df.drop('Unnamed: 0', axis=1)\n",
    "df.drop('Unnamed: 0', axis=1, inplace=True)"
   ]
  },
  {
   "cell_type": "code",
   "execution_count": null,
   "metadata": {},
   "outputs": [],
   "source": [
    "df2 = df.copy()"
   ]
  },
  {
   "cell_type": "code",
   "execution_count": null,
   "metadata": {},
   "outputs": [],
   "source": [
    "df2 = df2.drop(0, axis=0)"
   ]
  },
  {
   "cell_type": "code",
   "execution_count": null,
   "metadata": {},
   "outputs": [],
   "source": [
    "df2"
   ]
  },
  {
   "cell_type": "code",
   "execution_count": null,
   "metadata": {},
   "outputs": [],
   "source": [
    "## 인덱스의 값이 1인 데이터를 출력 \n",
    "df2.loc[[1],]"
   ]
  },
  {
   "cell_type": "code",
   "execution_count": null,
   "metadata": {},
   "outputs": [],
   "source": [
    "df2.iloc[[1], ]"
   ]
  },
  {
   "cell_type": "code",
   "execution_count": null,
   "metadata": {},
   "outputs": [],
   "source": [
    "## 특정 컬럼의 데이터만 출력 \n",
    "df2.loc[ : , [\"createDt\"] ]"
   ]
  },
  {
   "cell_type": "code",
   "execution_count": null,
   "metadata": {},
   "outputs": [],
   "source": [
    "df2[ ['createDt'] ]"
   ]
  },
  {
   "cell_type": "code",
   "execution_count": null,
   "metadata": {},
   "outputs": [],
   "source": [
    "df2.iloc[ : , [0] ]"
   ]
  },
  {
   "cell_type": "code",
   "execution_count": null,
   "metadata": {},
   "outputs": [],
   "source": [
    "df2.iloc[ : , 1:3 ]"
   ]
  },
  {
   "cell_type": "code",
   "execution_count": null,
   "metadata": {},
   "outputs": [],
   "source": [
    "df2.loc[ : ,  'deathCnt' : 'stateDt' ]"
   ]
  },
  {
   "cell_type": "code",
   "execution_count": null,
   "metadata": {},
   "outputs": [],
   "source": [
    "corona = df.copy()"
   ]
  },
  {
   "cell_type": "code",
   "execution_count": null,
   "metadata": {},
   "outputs": [],
   "source": [
    "### df의 컬럼의 이름을 변경 \n",
    "### ['등록일시', '총사망자', '총확진자', '게시글번호', '기준일', '기준시간', '수정일시', '누적의심자', '누적확진자']\n",
    "df.columns = ['등록일시', '총사망자', '총확진자', '게시글번호', '기준일', '기준시간', '수정일시', '누적의심자', '누적확진자']"
   ]
  },
  {
   "cell_type": "code",
   "execution_count": null,
   "metadata": {},
   "outputs": [],
   "source": [
    "df.head(1)"
   ]
  },
  {
   "cell_type": "code",
   "execution_count": null,
   "metadata": {},
   "outputs": [],
   "source": [
    "df.columns = corona.columns"
   ]
  },
  {
   "cell_type": "code",
   "execution_count": null,
   "metadata": {},
   "outputs": [],
   "source": [
    "df.head(1)"
   ]
  },
  {
   "cell_type": "code",
   "execution_count": null,
   "metadata": {},
   "outputs": [],
   "source": [
    "## rename() : 컬럼의 값이나 인덱스의 값을 변경 할때 사용하는 함수 \n",
    "## rename(columns= {dict}, index = {dict})\n",
    "\n",
    "corona.rename(\n",
    "    columns= {\n",
    "        'createDt' : '등록일시', \n",
    "        'deathCnt' : '총사망자', \n",
    "        'decideCnt' : '총확진자', \n",
    "        'seq' : '게시글번호', \n",
    "        'stateDt' : '기준일', \n",
    "        'stateTime' : '기준시간', \n",
    "        'updateDt' : '수정일시', \n",
    "        'accExamCnt' : '누적의심자', \n",
    "        'accDefRate' : '누적확진자'\n",
    "    }\n",
    "    , inplace= True\n",
    ")"
   ]
  },
  {
   "cell_type": "code",
   "execution_count": null,
   "metadata": {},
   "outputs": [],
   "source": [
    "df.head(1)"
   ]
  },
  {
   "cell_type": "code",
   "execution_count": null,
   "metadata": {},
   "outputs": [],
   "source": [
    "# df에 있는 특정 컬럼의 이름을 변경 \n",
    "# 누적확진자 -> 누적확진율\n",
    "df.rename(\n",
    "    columns = {\n",
    "        '누적확진자' : '누적확진율'\n",
    "    }, inplace=True\n",
    ")"
   ]
  },
  {
   "cell_type": "code",
   "execution_count": null,
   "metadata": {},
   "outputs": [],
   "source": [
    "class Test:\n",
    "    def __init__(self, data, index = None, columns = None):\n",
    "        self.data = data\n",
    "        if index:\n",
    "            self.index = index\n",
    "        else:\n",
    "            self.index = list(range(len(data)))\n",
    "        if columns:\n",
    "            self.columns = columns\n",
    "        else:\n",
    "            self.columns = list(range(len(data[0])))\n",
    "    def __repr__(self):\n",
    "        return str(self.data)\n",
    "\n",
    "    def add(self, value, inplace = False):\n",
    "        if inplace:\n",
    "            self.data = self.data + [value]\n",
    "        else:\n",
    "            return self.data + [value]\n",
    "\n"
   ]
  },
  {
   "cell_type": "code",
   "execution_count": null,
   "metadata": {},
   "outputs": [],
   "source": [
    "value = [\n",
    "    [1,2,3], \n",
    "    [7,8,9], \n",
    "    [4,5,6]\n",
    "]\n",
    "\n",
    "\n",
    "test_class = Test(value)"
   ]
  },
  {
   "cell_type": "code",
   "execution_count": null,
   "metadata": {},
   "outputs": [],
   "source": [
    "test_class.add(1, inplace=True)"
   ]
  },
  {
   "cell_type": "code",
   "execution_count": null,
   "metadata": {},
   "outputs": [],
   "source": [
    "test_class"
   ]
  },
  {
   "cell_type": "code",
   "execution_count": null,
   "metadata": {},
   "outputs": [],
   "source": [
    "df.head(3)"
   ]
  },
  {
   "cell_type": "code",
   "execution_count": null,
   "metadata": {},
   "outputs": [],
   "source": [
    "# ascending : 오름차순, 내림차순(False)을 지정  오름차순이 기본값\n",
    "df.sort_values('등록일시', ascending=True, inplace=True)"
   ]
  },
  {
   "cell_type": "code",
   "execution_count": null,
   "metadata": {},
   "outputs": [],
   "source": [
    "df.head(3)"
   ]
  },
  {
   "cell_type": "code",
   "execution_count": null,
   "metadata": {},
   "outputs": [],
   "source": [
    "## 데이터프레임의 인덱스를 재지정(초기화)\n",
    "df.reset_index(drop = True, inplace=True)"
   ]
  },
  {
   "cell_type": "code",
   "execution_count": null,
   "metadata": {},
   "outputs": [],
   "source": [
    "df.head(3)"
   ]
  },
  {
   "cell_type": "code",
   "execution_count": null,
   "metadata": {},
   "outputs": [],
   "source": [
    "df.values"
   ]
  },
  {
   "cell_type": "code",
   "execution_count": null,
   "metadata": {},
   "outputs": [],
   "source": [
    "# 인덱스의 조건이 1이고 컬럼의 조건이 총사망자인 데이터와\n",
    "# 인덱스의 조건이 0이고 컬럼의 조건이 총사망자인 데이터의 차이 -> 인덱스1의 일일사망자\n",
    "df.loc[1, '총사망자'] - df.loc[0, '총사망자']\n",
    "\n",
    "# 위의 작업은 인덱스의 개수 - 1 만큼 반복 \n",
    "\n",
    "# 일일사망자가 추가될 리스트를 생성 \n",
    "# 첫날의 데이터는 0으로 지정 \n",
    "_list = [0]\n",
    "\n",
    "for i in range(len(df) -1):\n",
    "    data = df.loc[ i+1, '총사망자' ] - df.loc[ i, '총사망자' ]\n",
    "    _list.append(data)\n",
    "\n",
    "_list"
   ]
  },
  {
   "cell_type": "code",
   "execution_count": null,
   "metadata": {},
   "outputs": [],
   "source": [
    "len(_list)"
   ]
  },
  {
   "cell_type": "code",
   "execution_count": null,
   "metadata": {},
   "outputs": [],
   "source": [
    "df['일일사망자'] = _list"
   ]
  },
  {
   "cell_type": "code",
   "execution_count": null,
   "metadata": {},
   "outputs": [],
   "source": [
    "df.head(3)"
   ]
  },
  {
   "cell_type": "code",
   "execution_count": null,
   "metadata": {},
   "outputs": [],
   "source": [
    "df['총사망자']"
   ]
  },
  {
   "cell_type": "code",
   "execution_count": null,
   "metadata": {},
   "outputs": [],
   "source": [
    "# 스리즈형태에 value를 인덱스 이동 \n",
    "# shift(n) : n의 기본값은 1\n",
    "df['총사망자'].shift()"
   ]
  },
  {
   "cell_type": "code",
   "execution_count": null,
   "metadata": {},
   "outputs": [],
   "source": [
    "df['일일사망자2'] = (df['총사망자'] - df['총사망자'].shift(1)).fillna(0)"
   ]
  },
  {
   "cell_type": "code",
   "execution_count": null,
   "metadata": {},
   "outputs": [],
   "source": [
    "df.head(3)"
   ]
  },
  {
   "cell_type": "code",
   "execution_count": null,
   "metadata": {},
   "outputs": [],
   "source": [
    "## 스리즈 데이터에서 데이터간의 차이를 출력하는 함수\n",
    "## diff(n) : n만큼 인덱스가 이동한 데이터와의 차이를 출력 (n = 1 기본값)\n",
    "df['일일사망자3'] = df['총사망자'].diff().fillna(0)"
   ]
  },
  {
   "cell_type": "code",
   "execution_count": null,
   "metadata": {},
   "outputs": [],
   "source": [
    "df.head(5)"
   ]
  },
  {
   "cell_type": "code",
   "execution_count": null,
   "metadata": {},
   "outputs": [],
   "source": [
    "### 일일 확진자 파생변수 생성 \n",
    "### 일일확진자 -> shift()을 이용하여 생성\n",
    "### 일일확진자2 -> diff()을 이용하여 생성\n",
    "df['일일확진자'] = (df['총확진자'] - df['총확진자'].shift()).fillna(0)\n",
    "df['일일확진자2'] = df['총확진자'].diff().fillna(0)\n",
    "df.head(4)"
   ]
  },
  {
   "cell_type": "code",
   "execution_count": null,
   "metadata": {},
   "outputs": [],
   "source": [
    "### describe() 함수를 이용하여 데이터의 이상이 있는가 확인\n",
    "df.describe()"
   ]
  },
  {
   "cell_type": "code",
   "execution_count": null,
   "metadata": {},
   "outputs": [],
   "source": [
    "# 일일사망자 데이터에 음수인 데이터만 출력\n",
    "flag = df['일일사망자'] < 0\n",
    "df.loc[flag, ]"
   ]
  },
  {
   "cell_type": "code",
   "execution_count": null,
   "metadata": {},
   "outputs": [],
   "source": [
    "flag2 = df['일일확진자'] < 0\n",
    "df.loc[flag2, ]"
   ]
  },
  {
   "cell_type": "code",
   "execution_count": null,
   "metadata": {},
   "outputs": [],
   "source": [
    "df.loc[444:448, ]"
   ]
  },
  {
   "cell_type": "code",
   "execution_count": 148,
   "metadata": {},
   "outputs": [],
   "source": [
    "df.loc[445, '등록일시'] = \"2021-05-31 00:00:00.000\""
   ]
  },
  {
   "cell_type": "code",
   "execution_count": 149,
   "metadata": {},
   "outputs": [
    {
     "data": {
      "text/html": [
       "<div>\n",
       "<style scoped>\n",
       "    .dataframe tbody tr th:only-of-type {\n",
       "        vertical-align: middle;\n",
       "    }\n",
       "\n",
       "    .dataframe tbody tr th {\n",
       "        vertical-align: top;\n",
       "    }\n",
       "\n",
       "    .dataframe thead th {\n",
       "        text-align: right;\n",
       "    }\n",
       "</style>\n",
       "<table border=\"1\" class=\"dataframe\">\n",
       "  <thead>\n",
       "    <tr style=\"text-align: right;\">\n",
       "      <th></th>\n",
       "      <th>등록일시</th>\n",
       "      <th>총사망자</th>\n",
       "      <th>총확진자</th>\n",
       "      <th>게시글번호</th>\n",
       "      <th>기준일</th>\n",
       "      <th>기준시간</th>\n",
       "      <th>수정일시</th>\n",
       "      <th>누적의심자</th>\n",
       "      <th>누적확진율</th>\n",
       "      <th>일일사망자</th>\n",
       "      <th>일일사망자2</th>\n",
       "      <th>일일사망자3</th>\n",
       "      <th>일일확진자</th>\n",
       "      <th>일일확진자2</th>\n",
       "    </tr>\n",
       "  </thead>\n",
       "  <tbody>\n",
       "    <tr>\n",
       "      <th>445</th>\n",
       "      <td>2021-05-31 00:00:00.000</td>\n",
       "      <td>1959</td>\n",
       "      <td>140337</td>\n",
       "      <td>498</td>\n",
       "      <td>20210531</td>\n",
       "      <td>00:00</td>\n",
       "      <td>2021-10-14 13:48:56.821</td>\n",
       "      <td>9761156.0</td>\n",
       "      <td>1.456805</td>\n",
       "      <td>8</td>\n",
       "      <td>8.0</td>\n",
       "      <td>8.0</td>\n",
       "      <td>910.0</td>\n",
       "      <td>910.0</td>\n",
       "    </tr>\n",
       "  </tbody>\n",
       "</table>\n",
       "</div>"
      ],
      "text/plain": [
       "                        등록일시  총사망자    총확진자  게시글번호       기준일   기준시간  \\\n",
       "445  2021-05-31 00:00:00.000  1959  140337    498  20210531  00:00   \n",
       "\n",
       "                        수정일시      누적의심자     누적확진율  일일사망자  일일사망자2  일일사망자3  \\\n",
       "445  2021-10-14 13:48:56.821  9761156.0  1.456805      8     8.0     8.0   \n",
       "\n",
       "     일일확진자  일일확진자2  \n",
       "445  910.0   910.0  "
      ]
     },
     "execution_count": 149,
     "metadata": {},
     "output_type": "execute_result"
    }
   ],
   "source": [
    "df.loc[ [445],  ]"
   ]
  }
 ],
 "metadata": {
  "kernelspec": {
   "display_name": "Python 3",
   "language": "python",
   "name": "python3"
  },
  "language_info": {
   "codemirror_mode": {
    "name": "ipython",
    "version": 3
   },
   "file_extension": ".py",
   "mimetype": "text/x-python",
   "name": "python",
   "nbconvert_exporter": "python",
   "pygments_lexer": "ipython3",
   "version": "3.11.4"
  }
 },
 "nbformat": 4,
 "nbformat_minor": 2
}
