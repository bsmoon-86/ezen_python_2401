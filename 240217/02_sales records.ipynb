{
 "cells": [
  {
   "cell_type": "markdown",
   "metadata": {},
   "source": [
    "## 연습문제 \n",
    "1. csv 폴더에 있는 Sales Records.csv 파일을 로드 \n",
    "2. 'Order ID', 'Total Revenue', 'Total Cost', 'Total Profit', 'Sales Channel' 컬럼을 제거 \n",
    "3. 컬럼의 이름을 변경 -> ['대륙', '국가', '상품종류', '우선순위', '주문일자', '발송일자', '판매단위', '단가', '원가']\n",
    "4. 대륙, 국가를 기준으로 오름차순 정렬\n",
    "5. 기존의 인덱스는 제거하고 인덱스를 재지정\n",
    "6. 새로운 파생변수 생성 \n",
    "    - 총단가 -> 판매단위 * 단가\n",
    "    - 총원가 -> 판매단위 * 원가\n",
    "    - 총이윤 -> 총단가 - 총원가"
   ]
  },
  {
   "cell_type": "code",
   "execution_count": null,
   "metadata": {},
   "outputs": [],
   "source": [
    "import pandas as pd"
   ]
  },
  {
   "cell_type": "code",
   "execution_count": null,
   "metadata": {},
   "outputs": [],
   "source": [
    "## 파일을 로드 \n",
    "df = pd.read_csv(\"../csv/sales records.csv\")"
   ]
  },
  {
   "cell_type": "code",
   "execution_count": null,
   "metadata": {},
   "outputs": [],
   "source": [
    "df.head(1)"
   ]
  },
  {
   "cell_type": "code",
   "execution_count": null,
   "metadata": {},
   "outputs": [],
   "source": [
    "# 특정 컬럼을 제거 \n",
    "df = df.drop(\n",
    "    ['Order ID', 'Total Revenue', 'Total Cost', 'Total Profit', 'Sales Channel'], \n",
    "    axis=1)"
   ]
  },
  {
   "cell_type": "code",
   "execution_count": null,
   "metadata": {},
   "outputs": [],
   "source": [
    "## 컬럼의 이름을 변경\n",
    "df.columns = ['대륙', '국가', '상품종류', '우선순위', '주문일자', '발송일자', '판매단위', '단가', '원가']"
   ]
  },
  {
   "cell_type": "code",
   "execution_count": null,
   "metadata": {},
   "outputs": [],
   "source": [
    "df.head(1)"
   ]
  },
  {
   "cell_type": "code",
   "execution_count": null,
   "metadata": {},
   "outputs": [],
   "source": [
    "## 대륙과 국가를 기준으로 오름차순 정렬 \n",
    "df.sort_values(\n",
    "    ['대륙', '국가'], \n",
    "    inplace=True\n",
    ")"
   ]
  },
  {
   "cell_type": "code",
   "execution_count": null,
   "metadata": {},
   "outputs": [],
   "source": [
    "## 인덱스를 재지정 (기존의 인덱스는 제거 )\n",
    "df.reset_index(drop=True, inplace=True)"
   ]
  },
  {
   "cell_type": "code",
   "execution_count": null,
   "metadata": {},
   "outputs": [],
   "source": [
    "## 파생변수 생성 \n",
    "df['총단가'] = df['판매단위'] * df['단가']\n",
    "df['총원가'] = df['판매단위'] * df['원가']\n",
    "df['총이윤'] = df['총단가'] - df['총원가']"
   ]
  },
  {
   "cell_type": "code",
   "execution_count": null,
   "metadata": {},
   "outputs": [],
   "source": [
    "df.head(3)"
   ]
  },
  {
   "cell_type": "code",
   "execution_count": null,
   "metadata": {},
   "outputs": [],
   "source": [
    "## 대륙별 빈도수를 출력 \n",
    "df['대륙'].value_counts()"
   ]
  },
  {
   "cell_type": "code",
   "execution_count": null,
   "metadata": {},
   "outputs": [],
   "source": [
    "# 대륙별 총 이윤의 합계가 가장 높은 대륙은 어디인가?\n",
    "\n",
    "# 데이터프레임의 그룹화 \n",
    "# groupby({그룹화할 컬럼의 이름}).연산식\n",
    "df2 = df[ [ '대륙', '총이윤'] ]"
   ]
  },
  {
   "cell_type": "code",
   "execution_count": null,
   "metadata": {},
   "outputs": [],
   "source": [
    "group_data = df2.groupby('대륙').sum()"
   ]
  },
  {
   "cell_type": "code",
   "execution_count": null,
   "metadata": {},
   "outputs": [],
   "source": [
    "# 지수표현 제거 \n",
    "pd.options.display.float_format = '{:.3f}'.format"
   ]
  },
  {
   "cell_type": "code",
   "execution_count": null,
   "metadata": {},
   "outputs": [],
   "source": [
    "group_data.sort_values('총이윤', ascending=False)"
   ]
  },
  {
   "cell_type": "code",
   "execution_count": null,
   "metadata": {},
   "outputs": [],
   "source": [
    "### 국가별 총이윤의 합계가 높은 상위 5개의 국가만 출력 \n",
    "df['국가'].value_counts()"
   ]
  },
  {
   "cell_type": "code",
   "execution_count": null,
   "metadata": {},
   "outputs": [],
   "source": [
    "group_data2 = df[ ['국가', '총이윤'] ].groupby('국가').sum()\n",
    "group_data2"
   ]
  },
  {
   "cell_type": "code",
   "execution_count": null,
   "metadata": {},
   "outputs": [],
   "source": [
    "group_data2.sort_values('총이윤', ascending=False).head()"
   ]
  },
  {
   "cell_type": "code",
   "execution_count": null,
   "metadata": {},
   "outputs": [],
   "source": [
    "df[ ['대륙', '국가', '총이윤'] ].groupby( ['대륙', '국가'] ).agg(['mean', 'sum'])"
   ]
  },
  {
   "cell_type": "code",
   "execution_count": 60,
   "metadata": {},
   "outputs": [
    {
     "data": {
      "text/html": [
       "<div>\n",
       "<style scoped>\n",
       "    .dataframe tbody tr th:only-of-type {\n",
       "        vertical-align: middle;\n",
       "    }\n",
       "\n",
       "    .dataframe tbody tr th {\n",
       "        vertical-align: top;\n",
       "    }\n",
       "\n",
       "    .dataframe thead th {\n",
       "        text-align: right;\n",
       "    }\n",
       "</style>\n",
       "<table border=\"1\" class=\"dataframe\">\n",
       "  <thead>\n",
       "    <tr style=\"text-align: right;\">\n",
       "      <th>상품종류</th>\n",
       "      <th>Baby Food</th>\n",
       "      <th>Beverages</th>\n",
       "      <th>Cereal</th>\n",
       "      <th>Clothes</th>\n",
       "      <th>Cosmetics</th>\n",
       "      <th>Fruits</th>\n",
       "      <th>Household</th>\n",
       "      <th>Meat</th>\n",
       "      <th>Office Supplies</th>\n",
       "      <th>Personal Care</th>\n",
       "      <th>Snacks</th>\n",
       "      <th>Vegetables</th>\n",
       "      <th>All</th>\n",
       "    </tr>\n",
       "    <tr>\n",
       "      <th>대륙</th>\n",
       "      <th></th>\n",
       "      <th></th>\n",
       "      <th></th>\n",
       "      <th></th>\n",
       "      <th></th>\n",
       "      <th></th>\n",
       "      <th></th>\n",
       "      <th></th>\n",
       "      <th></th>\n",
       "      <th></th>\n",
       "      <th></th>\n",
       "      <th></th>\n",
       "      <th></th>\n",
       "    </tr>\n",
       "  </thead>\n",
       "  <tbody>\n",
       "    <tr>\n",
       "      <th>Asia</th>\n",
       "      <td>63792050.060</td>\n",
       "      <td>8647185.780</td>\n",
       "      <td>53693513.100</td>\n",
       "      <td>38864007.360</td>\n",
       "      <td>103606872.690</td>\n",
       "      <td>1252062.480</td>\n",
       "      <td>97876160.480</td>\n",
       "      <td>32550460.800</td>\n",
       "      <td>90048570.000</td>\n",
       "      <td>17030249.740</td>\n",
       "      <td>34430739.360</td>\n",
       "      <td>45611425.000</td>\n",
       "      <td>587403296.850</td>\n",
       "    </tr>\n",
       "    <tr>\n",
       "      <th>Australia and Oceania</th>\n",
       "      <td>32462893.140</td>\n",
       "      <td>3629612.160</td>\n",
       "      <td>33347224.980</td>\n",
       "      <td>28834453.440</td>\n",
       "      <td>67604133.400</td>\n",
       "      <td>746478.220</td>\n",
       "      <td>61323580.330</td>\n",
       "      <td>17237563.200</td>\n",
       "      <td>29165770.000</td>\n",
       "      <td>8498372.260</td>\n",
       "      <td>18276153.000</td>\n",
       "      <td>22944977.280</td>\n",
       "      <td>324071211.410</td>\n",
       "    </tr>\n",
       "    <tr>\n",
       "      <th>Central America and the Caribbean</th>\n",
       "      <td>32823901.900</td>\n",
       "      <td>7199497.080</td>\n",
       "      <td>38325362.850</td>\n",
       "      <td>31311217.440</td>\n",
       "      <td>56765599.210</td>\n",
       "      <td>997462.850</td>\n",
       "      <td>88738305.470</td>\n",
       "      <td>23381415.200</td>\n",
       "      <td>56785735.000</td>\n",
       "      <td>10840930.940</td>\n",
       "      <td>25913925.240</td>\n",
       "      <td>30274496.540</td>\n",
       "      <td>403357849.720</td>\n",
       "    </tr>\n",
       "    <tr>\n",
       "      <th>Europe</th>\n",
       "      <td>96873431.920</td>\n",
       "      <td>14728699.800</td>\n",
       "      <td>101092263.750</td>\n",
       "      <td>83293885.440</td>\n",
       "      <td>198996301.440</td>\n",
       "      <td>2536662.370</td>\n",
       "      <td>170298513.180</td>\n",
       "      <td>64302867.200</td>\n",
       "      <td>142333745.000</td>\n",
       "      <td>29402346.680</td>\n",
       "      <td>56154410.580</td>\n",
       "      <td>66986485.440</td>\n",
       "      <td>1026999612.800</td>\n",
       "    </tr>\n",
       "    <tr>\n",
       "      <th>Middle East and North Africa</th>\n",
       "      <td>51015541.680</td>\n",
       "      <td>8035130.340</td>\n",
       "      <td>45305723.310</td>\n",
       "      <td>44564199.840</td>\n",
       "      <td>88465403.740</td>\n",
       "      <td>1265447.620</td>\n",
       "      <td>102535493.700</td>\n",
       "      <td>27855141.600</td>\n",
       "      <td>63450346.250</td>\n",
       "      <td>15533791.840</td>\n",
       "      <td>26541528.720</td>\n",
       "      <td>35356145.890</td>\n",
       "      <td>509923894.530</td>\n",
       "    </tr>\n",
       "    <tr>\n",
       "      <th>North America</th>\n",
       "      <td>12385016.140</td>\n",
       "      <td>1474138.440</td>\n",
       "      <td>6353586.210</td>\n",
       "      <td>8032573.440</td>\n",
       "      <td>21391399.970</td>\n",
       "      <td>157693.530</td>\n",
       "      <td>21488054.610</td>\n",
       "      <td>5426850.000</td>\n",
       "      <td>11435472.500</td>\n",
       "      <td>2366490.980</td>\n",
       "      <td>4584835.860</td>\n",
       "      <td>4399403.440</td>\n",
       "      <td>99495515.120</td>\n",
       "    </tr>\n",
       "    <tr>\n",
       "      <th>Sub-Saharan Africa</th>\n",
       "      <td>112972160.320</td>\n",
       "      <td>17523164.160</td>\n",
       "      <td>94261000.260</td>\n",
       "      <td>84736247.040</td>\n",
       "      <td>176609321.850</td>\n",
       "      <td>2818962.540</td>\n",
       "      <td>176478253.420</td>\n",
       "      <td>57210010.000</td>\n",
       "      <td>126963565.000</td>\n",
       "      <td>26662662.180</td>\n",
       "      <td>61428551.580</td>\n",
       "      <td>61978193.150</td>\n",
       "      <td>999642091.500</td>\n",
       "    </tr>\n",
       "    <tr>\n",
       "      <th>All</th>\n",
       "      <td>402324995.160</td>\n",
       "      <td>61237427.760</td>\n",
       "      <td>372378674.460</td>\n",
       "      <td>319636584.000</td>\n",
       "      <td>713439032.300</td>\n",
       "      <td>9774769.610</td>\n",
       "      <td>718738361.190</td>\n",
       "      <td>227964308.000</td>\n",
       "      <td>520183203.750</td>\n",
       "      <td>110334844.620</td>\n",
       "      <td>227330144.340</td>\n",
       "      <td>267551126.740</td>\n",
       "      <td>3950893471.930</td>\n",
       "    </tr>\n",
       "  </tbody>\n",
       "</table>\n",
       "</div>"
      ],
      "text/plain": [
       "상품종류                                  Baby Food    Beverages        Cereal  \\\n",
       "대륙                                                                           \n",
       "Asia                               63792050.060  8647185.780  53693513.100   \n",
       "Australia and Oceania              32462893.140  3629612.160  33347224.980   \n",
       "Central America and the Caribbean  32823901.900  7199497.080  38325362.850   \n",
       "Europe                             96873431.920 14728699.800 101092263.750   \n",
       "Middle East and North Africa       51015541.680  8035130.340  45305723.310   \n",
       "North America                      12385016.140  1474138.440   6353586.210   \n",
       "Sub-Saharan Africa                112972160.320 17523164.160  94261000.260   \n",
       "All                               402324995.160 61237427.760 372378674.460   \n",
       "\n",
       "상품종류                                    Clothes     Cosmetics      Fruits  \\\n",
       "대륙                                                                          \n",
       "Asia                               38864007.360 103606872.690 1252062.480   \n",
       "Australia and Oceania              28834453.440  67604133.400  746478.220   \n",
       "Central America and the Caribbean  31311217.440  56765599.210  997462.850   \n",
       "Europe                             83293885.440 198996301.440 2536662.370   \n",
       "Middle East and North Africa       44564199.840  88465403.740 1265447.620   \n",
       "North America                       8032573.440  21391399.970  157693.530   \n",
       "Sub-Saharan Africa                 84736247.040 176609321.850 2818962.540   \n",
       "All                               319636584.000 713439032.300 9774769.610   \n",
       "\n",
       "상품종류                                  Household          Meat  \\\n",
       "대륙                                                              \n",
       "Asia                               97876160.480  32550460.800   \n",
       "Australia and Oceania              61323580.330  17237563.200   \n",
       "Central America and the Caribbean  88738305.470  23381415.200   \n",
       "Europe                            170298513.180  64302867.200   \n",
       "Middle East and North Africa      102535493.700  27855141.600   \n",
       "North America                      21488054.610   5426850.000   \n",
       "Sub-Saharan Africa                176478253.420  57210010.000   \n",
       "All                               718738361.190 227964308.000   \n",
       "\n",
       "상품종류                               Office Supplies  Personal Care  \\\n",
       "대륙                                                                  \n",
       "Asia                                  90048570.000   17030249.740   \n",
       "Australia and Oceania                 29165770.000    8498372.260   \n",
       "Central America and the Caribbean     56785735.000   10840930.940   \n",
       "Europe                               142333745.000   29402346.680   \n",
       "Middle East and North Africa          63450346.250   15533791.840   \n",
       "North America                         11435472.500    2366490.980   \n",
       "Sub-Saharan Africa                   126963565.000   26662662.180   \n",
       "All                                  520183203.750  110334844.620   \n",
       "\n",
       "상품종류                                     Snacks    Vegetables            All  \n",
       "대륙                                                                            \n",
       "Asia                               34430739.360  45611425.000  587403296.850  \n",
       "Australia and Oceania              18276153.000  22944977.280  324071211.410  \n",
       "Central America and the Caribbean  25913925.240  30274496.540  403357849.720  \n",
       "Europe                             56154410.580  66986485.440 1026999612.800  \n",
       "Middle East and North Africa       26541528.720  35356145.890  509923894.530  \n",
       "North America                       4584835.860   4399403.440   99495515.120  \n",
       "Sub-Saharan Africa                 61428551.580  61978193.150  999642091.500  \n",
       "All                               227330144.340 267551126.740 3950893471.930  "
      ]
     },
     "execution_count": 60,
     "metadata": {},
     "output_type": "execute_result"
    }
   ],
   "source": [
    "pd.pivot_table(\n",
    "    df, \n",
    "    index=\"대륙\", \n",
    "    columns='상품종류',\n",
    "    values= \"총이윤\", \n",
    "    aggfunc= \"sum\", \n",
    "    margins=True\n",
    ")"
   ]
  },
  {
   "cell_type": "code",
   "execution_count": 57,
   "metadata": {},
   "outputs": [],
   "source": [
    "group_data3 = df[ ['대륙', '상품종류', '총이윤'] ].groupby(['대륙', '상품종류']).sum()"
   ]
  },
  {
   "cell_type": "code",
   "execution_count": 64,
   "metadata": {},
   "outputs": [
    {
     "data": {
      "text/html": [
       "<div>\n",
       "<style scoped>\n",
       "    .dataframe tbody tr th:only-of-type {\n",
       "        vertical-align: middle;\n",
       "    }\n",
       "\n",
       "    .dataframe tbody tr th {\n",
       "        vertical-align: top;\n",
       "    }\n",
       "\n",
       "    .dataframe thead th {\n",
       "        text-align: right;\n",
       "    }\n",
       "</style>\n",
       "<table border=\"1\" class=\"dataframe\">\n",
       "  <thead>\n",
       "    <tr style=\"text-align: right;\">\n",
       "      <th></th>\n",
       "      <th></th>\n",
       "      <th>총이윤</th>\n",
       "    </tr>\n",
       "    <tr>\n",
       "      <th>대륙</th>\n",
       "      <th>상품종류</th>\n",
       "      <th></th>\n",
       "    </tr>\n",
       "  </thead>\n",
       "  <tbody>\n",
       "    <tr>\n",
       "      <th rowspan=\"5\" valign=\"top\">Asia</th>\n",
       "      <th>Baby Food</th>\n",
       "      <td>63792050.060</td>\n",
       "    </tr>\n",
       "    <tr>\n",
       "      <th>Beverages</th>\n",
       "      <td>8647185.780</td>\n",
       "    </tr>\n",
       "    <tr>\n",
       "      <th>Cereal</th>\n",
       "      <td>53693513.100</td>\n",
       "    </tr>\n",
       "    <tr>\n",
       "      <th>Clothes</th>\n",
       "      <td>38864007.360</td>\n",
       "    </tr>\n",
       "    <tr>\n",
       "      <th>Cosmetics</th>\n",
       "      <td>103606872.690</td>\n",
       "    </tr>\n",
       "    <tr>\n",
       "      <th>...</th>\n",
       "      <th>...</th>\n",
       "      <td>...</td>\n",
       "    </tr>\n",
       "    <tr>\n",
       "      <th rowspan=\"5\" valign=\"top\">Sub-Saharan Africa</th>\n",
       "      <th>Meat</th>\n",
       "      <td>57210010.000</td>\n",
       "    </tr>\n",
       "    <tr>\n",
       "      <th>Office Supplies</th>\n",
       "      <td>126963565.000</td>\n",
       "    </tr>\n",
       "    <tr>\n",
       "      <th>Personal Care</th>\n",
       "      <td>26662662.180</td>\n",
       "    </tr>\n",
       "    <tr>\n",
       "      <th>Snacks</th>\n",
       "      <td>61428551.580</td>\n",
       "    </tr>\n",
       "    <tr>\n",
       "      <th>Vegetables</th>\n",
       "      <td>61978193.150</td>\n",
       "    </tr>\n",
       "  </tbody>\n",
       "</table>\n",
       "<p>84 rows × 1 columns</p>\n",
       "</div>"
      ],
      "text/plain": [
       "                                             총이윤\n",
       "대륙                 상품종류                         \n",
       "Asia               Baby Food        63792050.060\n",
       "                   Beverages         8647185.780\n",
       "                   Cereal           53693513.100\n",
       "                   Clothes          38864007.360\n",
       "                   Cosmetics       103606872.690\n",
       "...                                          ...\n",
       "Sub-Saharan Africa Meat             57210010.000\n",
       "                   Office Supplies 126963565.000\n",
       "                   Personal Care    26662662.180\n",
       "                   Snacks           61428551.580\n",
       "                   Vegetables       61978193.150\n",
       "\n",
       "[84 rows x 1 columns]"
      ]
     },
     "execution_count": 64,
     "metadata": {},
     "output_type": "execute_result"
    }
   ],
   "source": [
    "group_data3"
   ]
  },
  {
   "cell_type": "code",
   "execution_count": null,
   "metadata": {},
   "outputs": [],
   "source": []
  }
 ],
 "metadata": {
  "kernelspec": {
   "display_name": "Python 3",
   "language": "python",
   "name": "python3"
  },
  "language_info": {
   "codemirror_mode": {
    "name": "ipython",
    "version": 3
   },
   "file_extension": ".py",
   "mimetype": "text/x-python",
   "name": "python",
   "nbconvert_exporter": "python",
   "pygments_lexer": "ipython3",
   "version": "3.11.4"
  }
 },
 "nbformat": 4,
 "nbformat_minor": 2
}
