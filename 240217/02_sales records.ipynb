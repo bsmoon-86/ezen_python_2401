{
 "cells": [
  {
   "cell_type": "markdown",
   "metadata": {},
   "source": [
    "## 연습문제 \n",
    "1. csv 폴더에 있는 Sales Records.csv 파일을 로드 \n",
    "2. 'Order ID', 'Total Revenue', 'Total Cost', 'Total Profit', 'Sales Channel' 컬럼을 제거 \n",
    "3. 컬럼의 이름을 변경 -> ['대륙', '국가', '상품종류', '우선순위', '주문일자', '발송일자', '판매단위', '단가', '원가']\n",
    "4. 대륙, 국가를 기준으로 오름차순 정렬\n",
    "5. 기존의 인덱스는 제거하고 인덱스를 재지정\n",
    "6. 새로운 파생변수 생성 \n",
    "    - 총단가 -> 판매단위 * 단가\n",
    "    - 총원가 -> 판매단위 * 원가\n",
    "    - 총이윤 -> 총단가 - 총원가"
   ]
  },
  {
   "cell_type": "code",
   "execution_count": null,
   "metadata": {},
   "outputs": [],
   "source": []
  }
 ],
 "metadata": {
  "language_info": {
   "name": "python"
  }
 },
 "nbformat": 4,
 "nbformat_minor": 2
}
