{
 "cells": [
  {
   "cell_type": "markdown",
   "metadata": {},
   "source": [
    "## 연습문제 \n",
    "1. csv 폴더에 있는 Sales Records.csv 파일을 로드 \n",
    "2. 'Order ID', 'Total Revenue', 'Total Cost', 'Total Profit', 'Sales Channel' 컬럼을 제거 \n",
    "3. 컬럼의 이름을 변경 -> ['대륙', '국가', '상품종류', '우선순위', '주문일자', '발송일자', '판매단위', '단가', '원가']\n",
    "4. 대륙, 국가를 기준으로 오름차순 정렬\n",
    "5. 기존의 인덱스는 제거하고 인덱스를 재지정\n",
    "6. 새로운 파생변수 생성 \n",
    "    - 총단가 -> 판매단위 * 단가\n",
    "    - 총원가 -> 판매단위 * 원가\n",
    "    - 총이윤 -> 총단가 - 총원가"
   ]
  },
  {
   "cell_type": "code",
   "execution_count": null,
   "metadata": {},
   "outputs": [],
   "source": [
    "import pandas as pd"
   ]
  },
  {
   "cell_type": "code",
   "execution_count": null,
   "metadata": {},
   "outputs": [],
   "source": [
    "## 파일을 로드 \n",
    "df = pd.read_csv(\"../csv/sales records.csv\")"
   ]
  },
  {
   "cell_type": "code",
   "execution_count": null,
   "metadata": {},
   "outputs": [],
   "source": [
    "df.head(1)"
   ]
  },
  {
   "cell_type": "code",
   "execution_count": null,
   "metadata": {},
   "outputs": [],
   "source": [
    "# 특정 컬럼을 제거 \n",
    "df = df.drop(\n",
    "    ['Order ID', 'Total Revenue', 'Total Cost', 'Total Profit', 'Sales Channel'], \n",
    "    axis=1)"
   ]
  },
  {
   "cell_type": "code",
   "execution_count": null,
   "metadata": {},
   "outputs": [],
   "source": [
    "## 컬럼의 이름을 변경\n",
    "df.columns = ['대륙', '국가', '상품종류', '우선순위', '주문일자', '발송일자', '판매단위', '단가', '원가']"
   ]
  },
  {
   "cell_type": "code",
   "execution_count": null,
   "metadata": {},
   "outputs": [],
   "source": [
    "df.head(1)"
   ]
  },
  {
   "cell_type": "code",
   "execution_count": 16,
   "metadata": {},
   "outputs": [],
   "source": [
    "## 대륙과 국가를 기준으로 오름차순 정렬 \n",
    "df.sort_values(\n",
    "    ['대륙', '국가'], \n",
    "    inplace=True\n",
    ")"
   ]
  },
  {
   "cell_type": "code",
   "execution_count": 20,
   "metadata": {},
   "outputs": [],
   "source": [
    "## 인덱스를 재지정 (기존의 인덱스는 제거 )\n",
    "df.reset_index(drop=True, inplace=True)"
   ]
  },
  {
   "cell_type": "code",
   "execution_count": 21,
   "metadata": {},
   "outputs": [],
   "source": [
    "## 파생변수 생성 \n",
    "df['총단가'] = df['판매단위'] * df['단가']\n",
    "df['총원가'] = df['판매단위'] * df['원가']\n",
    "df['총이윤'] = df['총단가'] - df['총원가']"
   ]
  },
  {
   "cell_type": "code",
   "execution_count": 22,
   "metadata": {},
   "outputs": [
    {
     "data": {
      "text/html": [
       "<div>\n",
       "<style scoped>\n",
       "    .dataframe tbody tr th:only-of-type {\n",
       "        vertical-align: middle;\n",
       "    }\n",
       "\n",
       "    .dataframe tbody tr th {\n",
       "        vertical-align: top;\n",
       "    }\n",
       "\n",
       "    .dataframe thead th {\n",
       "        text-align: right;\n",
       "    }\n",
       "</style>\n",
       "<table border=\"1\" class=\"dataframe\">\n",
       "  <thead>\n",
       "    <tr style=\"text-align: right;\">\n",
       "      <th></th>\n",
       "      <th>대륙</th>\n",
       "      <th>국가</th>\n",
       "      <th>상품종류</th>\n",
       "      <th>우선순위</th>\n",
       "      <th>주문일자</th>\n",
       "      <th>발송일자</th>\n",
       "      <th>판매단위</th>\n",
       "      <th>단가</th>\n",
       "      <th>원가</th>\n",
       "      <th>총단가</th>\n",
       "      <th>총원가</th>\n",
       "      <th>총이윤</th>\n",
       "    </tr>\n",
       "  </thead>\n",
       "  <tbody>\n",
       "    <tr>\n",
       "      <th>0</th>\n",
       "      <td>Asia</td>\n",
       "      <td>Bangladesh</td>\n",
       "      <td>Personal Care</td>\n",
       "      <td>L</td>\n",
       "      <td>12/11/2016</td>\n",
       "      <td>1/13/2017</td>\n",
       "      <td>9420</td>\n",
       "      <td>81.73</td>\n",
       "      <td>56.67</td>\n",
       "      <td>769896.60</td>\n",
       "      <td>533831.40</td>\n",
       "      <td>236065.20</td>\n",
       "    </tr>\n",
       "    <tr>\n",
       "      <th>1</th>\n",
       "      <td>Asia</td>\n",
       "      <td>Bangladesh</td>\n",
       "      <td>Cosmetics</td>\n",
       "      <td>M</td>\n",
       "      <td>7/29/2010</td>\n",
       "      <td>9/11/2010</td>\n",
       "      <td>577</td>\n",
       "      <td>437.20</td>\n",
       "      <td>263.33</td>\n",
       "      <td>252264.40</td>\n",
       "      <td>151941.41</td>\n",
       "      <td>100322.99</td>\n",
       "    </tr>\n",
       "    <tr>\n",
       "      <th>2</th>\n",
       "      <td>Asia</td>\n",
       "      <td>Bangladesh</td>\n",
       "      <td>Vegetables</td>\n",
       "      <td>C</td>\n",
       "      <td>4/28/2014</td>\n",
       "      <td>5/5/2014</td>\n",
       "      <td>34</td>\n",
       "      <td>154.06</td>\n",
       "      <td>90.93</td>\n",
       "      <td>5238.04</td>\n",
       "      <td>3091.62</td>\n",
       "      <td>2146.42</td>\n",
       "    </tr>\n",
       "  </tbody>\n",
       "</table>\n",
       "</div>"
      ],
      "text/plain": [
       "     대륙          국가           상품종류 우선순위        주문일자       발송일자  판매단위      단가  \\\n",
       "0  Asia  Bangladesh  Personal Care    L  12/11/2016  1/13/2017  9420   81.73   \n",
       "1  Asia  Bangladesh      Cosmetics    M   7/29/2010  9/11/2010   577  437.20   \n",
       "2  Asia  Bangladesh     Vegetables    C   4/28/2014   5/5/2014    34  154.06   \n",
       "\n",
       "       원가        총단가        총원가        총이윤  \n",
       "0   56.67  769896.60  533831.40  236065.20  \n",
       "1  263.33  252264.40  151941.41  100322.99  \n",
       "2   90.93    5238.04    3091.62    2146.42  "
      ]
     },
     "execution_count": 22,
     "metadata": {},
     "output_type": "execute_result"
    }
   ],
   "source": [
    "df.head(3)"
   ]
  },
  {
   "cell_type": "code",
   "execution_count": null,
   "metadata": {},
   "outputs": [],
   "source": []
  }
 ],
 "metadata": {
  "kernelspec": {
   "display_name": "Python 3",
   "language": "python",
   "name": "python3"
  },
  "language_info": {
   "codemirror_mode": {
    "name": "ipython",
    "version": 3
   },
   "file_extension": ".py",
   "mimetype": "text/x-python",
   "name": "python",
   "nbconvert_exporter": "python",
   "pygments_lexer": "ipython3",
   "version": "3.11.4"
  }
 },
 "nbformat": 4,
 "nbformat_minor": 2
}
