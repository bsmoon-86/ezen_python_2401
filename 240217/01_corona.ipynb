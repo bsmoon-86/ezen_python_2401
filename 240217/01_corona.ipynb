{
 "cells": [
  {
   "cell_type": "markdown",
   "metadata": {},
   "source": [
    "### corona 데이터에서 전처리작업을 함수화\n",
    "- \"Unnamed: 0\" 컬럼을 제거 \n",
    "    - 해당 컬럼이 존재한다면 컬럼을 제거 \n",
    "    - 존재하지 않는다면 아무 행동도 하지 않는다. \n",
    "- 컬럼의 이름을 변경\n",
    "- 기준이 되는 컬럼으로 오름차순 정렬\n",
    "    - 기준이 되는 컬럼의 이름을 매개변수를 이용해서 입력 값 받아온다. \n",
    "- 인덱스를 초기화 (기존의 인덱스는 제거)\n",
    "- '일일사망자', '일일확진자' 컬럼을 생성 \n",
    "    - 일일사망자는 shift()함수를 이용하여 생성\n",
    "    - 일일확진자는 diff()함수를 이용하여 생성\n",
    "- 결과를 리턴"
   ]
  },
  {
   "cell_type": "code",
   "execution_count": null,
   "metadata": {},
   "outputs": [],
   "source": [
    "import pandas as pd"
   ]
  },
  {
   "cell_type": "code",
   "execution_count": null,
   "metadata": {},
   "outputs": [],
   "source": [
    "def corona_EDA(_df, _col):\n",
    "    # _df의 복사본 생성 \n",
    "    result = _df.copy()\n",
    "    # Unnamed: 0 컬럼이 존재하는가?\n",
    "    if \"Unnamed: 0\" in result.columns:\n",
    "        result.drop('Unnamed: 0', axis=1, inplace = True)\n",
    "    # 컬럼의 이름을 변경 \n",
    "    result.columns = ['등록일시', '총사망자', '총확진자', '게시글번호', \n",
    "                      '기준일', '기준시간', '수정일시', '누적의심자', '누적확진율']\n",
    "    # 기준이되는 컬럼(_col)을 기준으로 오름차순 정렬\n",
    "    result.sort_values( _col, inplace=True )\n",
    "    # 인덱스를 초기화하고 기존의 인덱스는 제거 \n",
    "    result.reset_index(drop = True, inplace = True)\n",
    "    # 파생변수 생성 \n",
    "    # 일일사망자 -> shift()\n",
    "    result['일일사망자'] = (result['총사망자'] - result['총사망자'].shift() ).fillna(0)\n",
    "    # 일일확진자 -> diff()\n",
    "    result['일일확진자'] = result['총확진자'].diff().fillna(0)\n",
    "    \n",
    "    return result"
   ]
  },
  {
   "cell_type": "code",
   "execution_count": null,
   "metadata": {},
   "outputs": [],
   "source": [
    "df = pd.read_csv(\"../csv/corona.csv\")"
   ]
  },
  {
   "cell_type": "code",
   "execution_count": null,
   "metadata": {},
   "outputs": [],
   "source": [
    "df2 = corona_EDA(df, '기준일')"
   ]
  },
  {
   "cell_type": "code",
   "execution_count": null,
   "metadata": {},
   "outputs": [],
   "source": [
    "df2.describe()"
   ]
  },
  {
   "cell_type": "code",
   "execution_count": 27,
   "metadata": {},
   "outputs": [],
   "source": [
    "## EDA가 끝난 데이터프레임을 csv로 저장 \n",
    "df2.to_csv('../교안/corona_EDA.csv', index=False, encoding='CP949')"
   ]
  },
  {
   "cell_type": "code",
   "execution_count": 24,
   "metadata": {},
   "outputs": [],
   "source": [
    "df2.to_excel('corona.xlsx')"
   ]
  },
  {
   "cell_type": "code",
   "execution_count": null,
   "metadata": {},
   "outputs": [],
   "source": [
    "!pip install openpyxl"
   ]
  }
 ],
 "metadata": {
  "kernelspec": {
   "display_name": "Python 3",
   "language": "python",
   "name": "python3"
  },
  "language_info": {
   "codemirror_mode": {
    "name": "ipython",
    "version": 3
   },
   "file_extension": ".py",
   "mimetype": "text/x-python",
   "name": "python",
   "nbconvert_exporter": "python",
   "pygments_lexer": "ipython3",
   "version": "3.11.4"
  }
 },
 "nbformat": 4,
 "nbformat_minor": 2
}
