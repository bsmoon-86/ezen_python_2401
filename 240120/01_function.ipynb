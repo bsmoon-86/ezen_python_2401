{
 "cells": [
  {
   "cell_type": "markdown",
   "metadata": {},
   "source": [
    "### 문자열 내장함수"
   ]
  },
  {
   "cell_type": "code",
   "execution_count": 1,
   "metadata": {},
   "outputs": [
    {
     "name": "stdout",
     "output_type": "stream",
     "text": [
      "HELLO WORLD\n",
      "hello world\n",
      "hELLO WORLD\n",
      "Hello World\n"
     ]
    }
   ],
   "source": [
    "# 문자열을 대, 소문자 변경 \n",
    "\n",
    "a_text = \"Hello world\"\n",
    "\n",
    "# upper() : 모든 문자열을 대문자로 변경\n",
    "print(a_text.upper())\n",
    "# lower() : 모든 문자열을 소문자로 변경\n",
    "print(a_text.lower())\n",
    "# swapcase() : 대문자를 소문자로 소문자를 대문자로 변경\n",
    "print(a_text.swapcase())\n",
    "# title() : 단어의 첫글자를 대문자로 변경\n",
    "print(a_text.title())"
   ]
  },
  {
   "cell_type": "code",
   "execution_count": 2,
   "metadata": {},
   "outputs": [
    {
     "name": "stdout",
     "output_type": "stream",
     "text": [
      "  Hello world  \n"
     ]
    }
   ],
   "source": [
    "# 공백을 제거하는 함수 \n",
    "# strip() : 문자열의 좌우의 공백을 제거 \n",
    "# lstrip() : 문자열 좌측의 공백을 제거 \n",
    "# rstrip() : 문자열 우측의 공백을 제거 \n",
    "b_text = \"  Hello world  \"\n",
    "print(b_text)"
   ]
  },
  {
   "cell_type": "code",
   "execution_count": 3,
   "metadata": {},
   "outputs": [
    {
     "data": {
      "text/plain": [
       "'  Hello world  '"
      ]
     },
     "execution_count": 3,
     "metadata": {},
     "output_type": "execute_result"
    }
   ],
   "source": [
    "b_text"
   ]
  },
  {
   "cell_type": "code",
   "execution_count": 4,
   "metadata": {},
   "outputs": [
    {
     "data": {
      "text/plain": [
       "'Hello world'"
      ]
     },
     "execution_count": 4,
     "metadata": {},
     "output_type": "execute_result"
    }
   ],
   "source": [
    "# 좌우의 공백을 제거 \n",
    "b_text.strip()"
   ]
  },
  {
   "cell_type": "code",
   "execution_count": 8,
   "metadata": {},
   "outputs": [
    {
     "data": {
      "text/plain": [
       "'Hello world  '"
      ]
     },
     "execution_count": 8,
     "metadata": {},
     "output_type": "execute_result"
    }
   ],
   "source": [
    "# 좌측의 공백을 제거\n",
    "b_text.lstrip()"
   ]
  },
  {
   "cell_type": "code",
   "execution_count": 9,
   "metadata": {},
   "outputs": [
    {
     "data": {
      "text/plain": [
       "'  Hello world'"
      ]
     },
     "execution_count": 9,
     "metadata": {},
     "output_type": "execute_result"
    }
   ],
   "source": [
    "# 우측의 공백을 제거 \n",
    "b_text.rstrip()"
   ]
  },
  {
   "cell_type": "code",
   "execution_count": 10,
   "metadata": {},
   "outputs": [
    {
     "name": "stdout",
     "output_type": "stream",
     "text": [
      "$$Hello%%\n"
     ]
    }
   ],
   "source": [
    "c_text = \"$$Hello%%\"\n",
    "print(c_text)"
   ]
  },
  {
   "cell_type": "code",
   "execution_count": 11,
   "metadata": {},
   "outputs": [
    {
     "data": {
      "text/plain": [
       "'Hello%%'"
      ]
     },
     "execution_count": 11,
     "metadata": {},
     "output_type": "execute_result"
    }
   ],
   "source": [
    "# 좌측의 $를 제거 \n",
    "c_text.lstrip('$')"
   ]
  },
  {
   "cell_type": "code",
   "execution_count": 12,
   "metadata": {},
   "outputs": [
    {
     "data": {
      "text/plain": [
       "'$$Hello'"
      ]
     },
     "execution_count": 12,
     "metadata": {},
     "output_type": "execute_result"
    }
   ],
   "source": [
    "# 우측의 %를 제거\n",
    "c_text.rstrip('%')"
   ]
  },
  {
   "cell_type": "code",
   "execution_count": 13,
   "metadata": {},
   "outputs": [
    {
     "data": {
      "text/plain": [
       "'Hi World'"
      ]
     },
     "execution_count": 13,
     "metadata": {},
     "output_type": "execute_result"
    }
   ],
   "source": [
    "# replace({치환을 할 문자열}, {치환이 될 문자열})\n",
    "c_text = 'Hello World'\n",
    "c_text.replace('Hello', 'Hi')"
   ]
  },
  {
   "cell_type": "code",
   "execution_count": 14,
   "metadata": {},
   "outputs": [
    {
     "data": {
      "text/plain": [
       "'  Hello  World  '"
      ]
     },
     "execution_count": 14,
     "metadata": {},
     "output_type": "execute_result"
    }
   ],
   "source": [
    "# replace()함수를 이용하여 문자열의 공백을 제거 \n",
    "d_text = \"  Hello  World  \"\n",
    "d_text"
   ]
  },
  {
   "cell_type": "code",
   "execution_count": 15,
   "metadata": {},
   "outputs": [
    {
     "data": {
      "text/plain": [
       "'HelloWorld'"
      ]
     },
     "execution_count": 15,
     "metadata": {},
     "output_type": "execute_result"
    }
   ],
   "source": [
    "d_text.replace(\" \", \"\")"
   ]
  },
  {
   "cell_type": "code",
   "execution_count": 16,
   "metadata": {},
   "outputs": [
    {
     "data": {
      "text/plain": [
       "['a', 'b', 'c', 'd']"
      ]
     },
     "execution_count": 16,
     "metadata": {},
     "output_type": "execute_result"
    }
   ],
   "source": [
    "# split() : 특정한 문자열을 이용하여 문자열을 나눠주는 함수\n",
    "e_text = \"a,b,c,d\"\n",
    "e_text.split(',')"
   ]
  },
  {
   "cell_type": "code",
   "execution_count": 17,
   "metadata": {},
   "outputs": [
    {
     "data": {
      "text/plain": [
       "['a', 'b', 'c', 'd']"
      ]
     },
     "execution_count": 17,
     "metadata": {},
     "output_type": "execute_result"
    }
   ],
   "source": [
    "f_text = 'a/b/c/d'\n",
    "f_text.split('/')"
   ]
  },
  {
   "cell_type": "code",
   "execution_count": 18,
   "metadata": {},
   "outputs": [
    {
     "data": {
      "text/plain": [
       "-1"
      ]
     },
     "execution_count": 18,
     "metadata": {},
     "output_type": "execute_result"
    }
   ],
   "source": [
    "a = 'Hello'\n",
    "a.find('b')"
   ]
  },
  {
   "cell_type": "markdown",
   "metadata": {},
   "source": [
    "### 함수 \n",
    "- 어떠한 입력값을 가지고 작업을 실행하고 결과물을 출력한다. "
   ]
  },
  {
   "cell_type": "code",
   "execution_count": 19,
   "metadata": {},
   "outputs": [],
   "source": [
    "# 매개변수가 존재하지 않는 함수를 생성\n",
    "# 매개변수가 존재하지 않으면 함수를 동일한 행동을 반복 \n",
    "def func_1():\n",
    "    result = 'Hello'\n",
    "    return result"
   ]
  },
  {
   "cell_type": "code",
   "execution_count": 20,
   "metadata": {},
   "outputs": [
    {
     "name": "stdout",
     "output_type": "stream",
     "text": [
      "Hello\n",
      "Hello\n",
      "Hello\n"
     ]
    }
   ],
   "source": [
    "print(func_1())\n",
    "print(func_1())\n",
    "print(func_1())"
   ]
  },
  {
   "cell_type": "code",
   "execution_count": 22,
   "metadata": {},
   "outputs": [
    {
     "ename": "TypeError",
     "evalue": "func_1() takes 0 positional arguments but 1 was given",
     "output_type": "error",
     "traceback": [
      "\u001b[1;31m---------------------------------------------------------------------------\u001b[0m",
      "\u001b[1;31mTypeError\u001b[0m                                 Traceback (most recent call last)",
      "Cell \u001b[1;32mIn[22], line 1\u001b[0m\n\u001b[1;32m----> 1\u001b[0m \u001b[38;5;28mprint\u001b[39m(\u001b[43mfunc_1\u001b[49m\u001b[43m(\u001b[49m\u001b[38;5;124;43m'\u001b[39;49m\u001b[38;5;124;43ma\u001b[39;49m\u001b[38;5;124;43m'\u001b[39;49m\u001b[43m)\u001b[49m)\n",
      "\u001b[1;31mTypeError\u001b[0m: func_1() takes 0 positional arguments but 1 was given"
     ]
    }
   ],
   "source": [
    "print(func_1('a'))"
   ]
  },
  {
   "cell_type": "code",
   "execution_count": 21,
   "metadata": {},
   "outputs": [],
   "source": [
    "# 매개변수가 존재하는 함수를 생성 \n",
    "def func_2(a, b):\n",
    "    result = a + b\n",
    "    return result"
   ]
  },
  {
   "cell_type": "code",
   "execution_count": 23,
   "metadata": {},
   "outputs": [
    {
     "name": "stdout",
     "output_type": "stream",
     "text": [
      "9\n",
      "3\n"
     ]
    }
   ],
   "source": [
    "# 매개변수가 2개인 함수를 호출 -> 해당하는 함수를 호출을 할때는 인자의 개수가 2개\n",
    "print(func_2(4, 5)) # 9\n",
    "print(func_2(1, 2)) # 3"
   ]
  },
  {
   "cell_type": "code",
   "execution_count": 24,
   "metadata": {},
   "outputs": [
    {
     "ename": "TypeError",
     "evalue": "func_2() missing 1 required positional argument: 'b'",
     "output_type": "error",
     "traceback": [
      "\u001b[1;31m---------------------------------------------------------------------------\u001b[0m",
      "\u001b[1;31mTypeError\u001b[0m                                 Traceback (most recent call last)",
      "Cell \u001b[1;32mIn[24], line 3\u001b[0m\n\u001b[0;32m      1\u001b[0m \u001b[38;5;66;03m# error code \u001b[39;00m\n\u001b[0;32m      2\u001b[0m \u001b[38;5;66;03m# 매개변수의 개수와 인자의 개수를 다르게 호출하는 경우 \u001b[39;00m\n\u001b[1;32m----> 3\u001b[0m \u001b[38;5;28mprint\u001b[39m(\u001b[43mfunc_2\u001b[49m\u001b[43m(\u001b[49m\u001b[38;5;241;43m5\u001b[39;49m\u001b[43m)\u001b[49m)\n",
      "\u001b[1;31mTypeError\u001b[0m: func_2() missing 1 required positional argument: 'b'"
     ]
    }
   ],
   "source": [
    "# error code \n",
    "# 매개변수의 개수와 인자의 개수를 다르게 호출하는 경우 \n",
    "print(func_2(5))"
   ]
  },
  {
   "cell_type": "code",
   "execution_count": 25,
   "metadata": {},
   "outputs": [],
   "source": [
    "# 함수를 생성할때 매개변수에 기본값을 지정 \n",
    "def func_3(a, b = 2):\n",
    "    result = a ** b\n",
    "    return result"
   ]
  },
  {
   "cell_type": "code",
   "execution_count": 26,
   "metadata": {},
   "outputs": [
    {
     "name": "stdout",
     "output_type": "stream",
     "text": [
      "125\n",
      "64\n"
     ]
    }
   ],
   "source": [
    "print(func_3(5, 3))  # 125\n",
    "print(func_3(8)) # 64"
   ]
  },
  {
   "cell_type": "code",
   "execution_count": 27,
   "metadata": {},
   "outputs": [],
   "source": [
    "def func_4(input_x, input_y):\n",
    "    result = input_x - input_y\n",
    "    return result"
   ]
  },
  {
   "cell_type": "code",
   "execution_count": 28,
   "metadata": {},
   "outputs": [
    {
     "name": "stdout",
     "output_type": "stream",
     "text": [
      "7\n",
      "-7\n"
     ]
    }
   ],
   "source": [
    "print(func_4(10, 3))  # 7\n",
    "print(func_4(input_y = 10, input_x = 3)) # -7"
   ]
  },
  {
   "cell_type": "code",
   "execution_count": 32,
   "metadata": {},
   "outputs": [],
   "source": [
    "# 함수 생성 \n",
    "# 매개변수는 2개 -> start, end \n",
    "# start부터 시작해서 end까지의 누적합을 출력\n",
    "# start의 기본값은 1, end의 기본값은 10\n",
    "def func_5(start = 1, end = 10):\n",
    "    # 합계라는 초기 값은 0으로 지정 \n",
    "    result = 0\n",
    "\n",
    "    # start부터 end까지 반복을 하는 반복문을 생성 \n",
    "    for i in range(start, end+1, 1):\n",
    "        # result = result + i\n",
    "        result += i\n",
    "        # for문 종료 후\n",
    "        return result"
   ]
  },
  {
   "cell_type": "code",
   "execution_count": 33,
   "metadata": {},
   "outputs": [
    {
     "name": "stdout",
     "output_type": "stream",
     "text": [
      "1\n"
     ]
    }
   ],
   "source": [
    "print(func_5())\n",
    "# start = 1, end = 10, result = 0\n",
    "# for i in range(1, 11, 1):\n",
    "#   result = result + i  --> result = 0 + 1\n",
    "#   return result --> result를 되돌려주고 함수를 종료"
   ]
  },
  {
   "cell_type": "code",
   "execution_count": 38,
   "metadata": {},
   "outputs": [],
   "source": [
    "def func_6(start = 1, end = 10):\n",
    "    # 합계라는 초기 값은 0으로 지정 \n",
    "    result = 0\n",
    "\n",
    "    # start부터 end까지 반복을 하는 반복문을 생성 \n",
    "    for i in range(start, end+1, 1):\n",
    "        # result = result + i\n",
    "        result += i\n",
    "    # for문 종료 후\n",
    "    print(result)\n",
    "    return result"
   ]
  },
  {
   "cell_type": "code",
   "execution_count": 39,
   "metadata": {},
   "outputs": [
    {
     "name": "stdout",
     "output_type": "stream",
     "text": [
      "55\n",
      "55\n"
     ]
    }
   ],
   "source": [
    "print(func_6())\n",
    "# start = 1, end = 10, result = 0\n",
    "# for i in range(1, 11, 1):\n",
    "#   result = result + i --> reulst = 0 + 1\n",
    "#   result = result + i --> reulst = 1 + 2\n",
    "#  ....\n",
    "#   result = result + i --> reulst = 36 + 9\n",
    "#   result = result + i --> reulst = 45 + 10\n",
    "# return result"
   ]
  },
  {
   "cell_type": "code",
   "execution_count": 40,
   "metadata": {},
   "outputs": [
    {
     "name": "stdout",
     "output_type": "stream",
     "text": [
      "5050\n",
      "5050\n"
     ]
    }
   ],
   "source": [
    "print(func_6(end=100))"
   ]
  },
  {
   "cell_type": "code",
   "execution_count": 42,
   "metadata": {},
   "outputs": [
    {
     "name": "stdout",
     "output_type": "stream",
     "text": [
      "77\n",
      "3003\n"
     ]
    }
   ],
   "source": [
    "# 1부터 100까지의 누적합 도중 합계가 3000이 넘어가는 최초의 숫자는 몇일까?\n",
    "\n",
    "# 합계 초기값을 지정 0\n",
    "sum_result = 0\n",
    "\n",
    "for i in range(1, 101, 1):\n",
    "    sum_result += i\n",
    "    # 합계가 3000보다 큰 경우 \n",
    "    if sum_result > 3000:\n",
    "        break\n",
    "print(i)\n",
    "print(sum_result)"
   ]
  },
  {
   "cell_type": "code",
   "execution_count": 43,
   "metadata": {},
   "outputs": [
    {
     "name": "stdout",
     "output_type": "stream",
     "text": [
      "173\n",
      "15051\n"
     ]
    }
   ],
   "source": [
    "# 1부터 1씩 증가시켜서 누적합이 15000이 되는 순간의 숫자가 몇인가?\n",
    "sum_result = 0 \n",
    "\n",
    "for i in range(1, 500, 1):\n",
    "    sum_result += i\n",
    "    if sum_result > 15000 : \n",
    "        break\n",
    "\n",
    "print(i)\n",
    "print(sum_result)"
   ]
  },
  {
   "cell_type": "code",
   "execution_count": 45,
   "metadata": {},
   "outputs": [
    {
     "name": "stdout",
     "output_type": "stream",
     "text": [
      "548\n",
      "150426\n"
     ]
    }
   ],
   "source": [
    "i = 1\n",
    "sum_result = 0\n",
    "\n",
    "while True:\n",
    "    sum_result += i\n",
    "    if sum_result > 150000:\n",
    "        break\n",
    "    i += 1\n",
    "print(i)\n",
    "print(sum_result)"
   ]
  }
 ],
 "metadata": {
  "kernelspec": {
   "display_name": "Python 3",
   "language": "python",
   "name": "python3"
  },
  "language_info": {
   "codemirror_mode": {
    "name": "ipython",
    "version": 3
   },
   "file_extension": ".py",
   "mimetype": "text/x-python",
   "name": "python",
   "nbconvert_exporter": "python",
   "pygments_lexer": "ipython3",
   "version": "3.11.4"
  }
 },
 "nbformat": 4,
 "nbformat_minor": 2
}
