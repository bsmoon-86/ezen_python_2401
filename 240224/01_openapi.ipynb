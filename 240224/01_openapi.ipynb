{
 "cells": [
  {
   "cell_type": "code",
   "execution_count": null,
   "metadata": {},
   "outputs": [],
   "source": [
    "!pip install requests"
   ]
  },
  {
   "cell_type": "code",
   "execution_count": null,
   "metadata": {},
   "outputs": [],
   "source": [
    "import requests"
   ]
  },
  {
   "cell_type": "code",
   "execution_count": null,
   "metadata": {},
   "outputs": [],
   "source": [
    "# 웹서버에 요청을 보낸다. \n",
    "url = \"http://127.0.0.1:8080/corona?ServiceKey=aaa\"\n",
    "\n",
    "response = requests.get(url)\n"
   ]
  },
  {
   "cell_type": "code",
   "execution_count": null,
   "metadata": {},
   "outputs": [],
   "source": [
    "print(response)"
   ]
  },
  {
   "cell_type": "code",
   "execution_count": null,
   "metadata": {},
   "outputs": [],
   "source": [
    "print(response.text)"
   ]
  },
  {
   "cell_type": "code",
   "execution_count": null,
   "metadata": {},
   "outputs": [],
   "source": [
    "url = \"http://127.0.0.1:8080/corona\"\n",
    "_param = {\n",
    "    \"ServiceKey\" : 'aaa'\n",
    "}\n",
    "res = requests.get(url, params=_param)\n"
   ]
  },
  {
   "cell_type": "code",
   "execution_count": null,
   "metadata": {},
   "outputs": [],
   "source": [
    "print(res)\n",
    "print(res.text)"
   ]
  },
  {
   "cell_type": "code",
   "execution_count": null,
   "metadata": {},
   "outputs": [],
   "source": [
    "url = 'http://apis.data.go.kr/1262000/CountryPopulationService2/getCountryPopulationList2'\n",
    "\n",
    "serviceKey = 'dtbWOdJ/Cz5HE0DGLU+CRPe7pOW0NIQBUcGEqsHZaTRiYCI/5+zugwzQjcvuId7NPdg6rUiW+ft3fm7yqyD4pw=='\n",
    "\n",
    "params ={\n",
    "    'ServiceKey' : serviceKey, \n",
    "    'pageNo' : '1', \n",
    "    'numOfRows' : '10', \n",
    "    'cond[country_nm::EQ]' : '가나', \n",
    "    'cond[country_iso_alp2::EQ]' : 'GH', \n",
    "    'returnType' : 'XML' \n",
    "}\n",
    "\n",
    "response = requests.get(url, params=params)\n",
    "\n",
    "print(response.content)"
   ]
  },
  {
   "cell_type": "code",
   "execution_count": null,
   "metadata": {},
   "outputs": [],
   "source": [
    "!pip install xmltodict"
   ]
  },
  {
   "cell_type": "code",
   "execution_count": null,
   "metadata": {},
   "outputs": [],
   "source": [
    "import xmltodict"
   ]
  },
  {
   "cell_type": "code",
   "execution_count": null,
   "metadata": {},
   "outputs": [],
   "source": [
    "data = xmltodict.parse(response.content)"
   ]
  },
  {
   "cell_type": "code",
   "execution_count": null,
   "metadata": {},
   "outputs": [],
   "source": [
    "from pprint import pprint"
   ]
  },
  {
   "cell_type": "code",
   "execution_count": null,
   "metadata": {},
   "outputs": [],
   "source": [
    "res_data = data['results']['data']['item']"
   ]
  },
  {
   "cell_type": "code",
   "execution_count": null,
   "metadata": {},
   "outputs": [],
   "source": [
    "df1 = pd.DataFrame(res_data[0]['col'])"
   ]
  },
  {
   "cell_type": "code",
   "execution_count": null,
   "metadata": {},
   "outputs": [],
   "source": [
    "df2 = pd.DataFrame(res_data[1]['col'])"
   ]
  },
  {
   "cell_type": "code",
   "execution_count": null,
   "metadata": {},
   "outputs": [],
   "source": [
    "## 두개의 데이터프레임을 조인 결합\n",
    "pd.merge(df1, df2, on='@name', how='inner')"
   ]
  },
  {
   "cell_type": "markdown",
   "metadata": {},
   "source": [
    "### 데이터프레임 결합 \n",
    "1. 유니언 결합\n",
    "    - 단순하게 행이나 열을 결합 방식\n",
    "    - concat({데이터프레임의 이름을 1차원 리스트}, axis={0 | 1}, ignore_index={bool})\n",
    "        - axis 매개변수 : 0인 경우에는 행을 추가하는 결합방식, 1인 경우에는 열을 추가하는 결합 방식\n",
    "        - ignore_index : 기본값은 False, False인 경우에는 단순하게 결합, True로 변경시에는 axis=0이라면 인덱스를 초기화, axis=1 컬럼을 초기화\n",
    "2. 조인 결합 \n",
    "    - 특정한 조건에 맞춰서 열을 추가하는 결합 방식\n",
    "    - merge({왼쪽의 데이터프레임명}, {오른쪽의 데이터프레임명}, on = {조건으로사용할 컬럼명}, how = {inner|left|right|outer})"
   ]
  },
  {
   "cell_type": "code",
   "execution_count": null,
   "metadata": {},
   "outputs": [],
   "source": [
    "import pandas as pd"
   ]
  },
  {
   "cell_type": "code",
   "execution_count": 53,
   "metadata": {},
   "outputs": [],
   "source": [
    "## 국가 5개의 데이터를 로드해서 csv 파일로 저장 \n",
    "reg_list = ['프랑스', '이탈리아', '독일', '영국', '오스트리아']"
   ]
  },
  {
   "cell_type": "code",
   "execution_count": 54,
   "metadata": {},
   "outputs": [],
   "source": [
    "def api_load(_name):\n",
    "    url = 'http://apis.data.go.kr/1262000/CountryPopulationService2/getCountryPopulationList2'\n",
    "\n",
    "    serviceKey = 'dtbWOdJ/Cz5HE0DGLU+CRPe7pOW0NIQBUcGEqsHZaTRiYCI/5+zugwzQjcvuId7NPdg6rUiW+ft3fm7yqyD4pw=='\n",
    "\n",
    "    params ={\n",
    "        'ServiceKey' : serviceKey, \n",
    "        'pageNo' : '1', \n",
    "        'numOfRows' : '10', \n",
    "        'cond[country_nm::EQ]' : _name, \n",
    "        'returnType' : 'JSON' \n",
    "    }\n",
    "\n",
    "    response = requests.get(url, params=params)\n",
    "\n",
    "    # api에서 받아온 데이터를 json의 형태로 형태를 변환\n",
    "    res_data = json.loads(response.text)\n",
    "    # res_data['data']를 데이터프레임으로 변환\n",
    "    result = pd.DataFrame(res_data['data'])\n",
    "\n",
    "    return result\n"
   ]
  },
  {
   "cell_type": "code",
   "execution_count": 55,
   "metadata": {},
   "outputs": [
    {
     "data": {
      "text/html": [
       "<div>\n",
       "<style scoped>\n",
       "    .dataframe tbody tr th:only-of-type {\n",
       "        vertical-align: middle;\n",
       "    }\n",
       "\n",
       "    .dataframe tbody tr th {\n",
       "        vertical-align: top;\n",
       "    }\n",
       "\n",
       "    .dataframe thead th {\n",
       "        text-align: right;\n",
       "    }\n",
       "</style>\n",
       "<table border=\"1\" class=\"dataframe\">\n",
       "  <thead>\n",
       "    <tr style=\"text-align: right;\">\n",
       "      <th></th>\n",
       "      <th>country_eng_nm</th>\n",
       "      <th>country_iso_alp2</th>\n",
       "      <th>country_nm</th>\n",
       "      <th>popltn_cn</th>\n",
       "      <th>popltn_cnt</th>\n",
       "      <th>popltn_cnt_src</th>\n",
       "      <th>popltn_growth</th>\n",
       "      <th>popltn_growth_src</th>\n",
       "      <th>popltn_month</th>\n",
       "      <th>popltn_year</th>\n",
       "    </tr>\n",
       "  </thead>\n",
       "  <tbody>\n",
       "    <tr>\n",
       "      <th>0</th>\n",
       "      <td>France</td>\n",
       "      <td>FR</td>\n",
       "      <td>프랑스</td>\n",
       "      <td>None</td>\n",
       "      <td>67388001</td>\n",
       "      <td>('19) World Bank (최근 수정일 : 2023.12.18.)</td>\n",
       "      <td>0.34</td>\n",
       "      <td>('19) World Bank (최근 수정일 : 2023.12.18.)</td>\n",
       "      <td>None</td>\n",
       "      <td>2019</td>\n",
       "    </tr>\n",
       "    <tr>\n",
       "      <th>1</th>\n",
       "      <td>France</td>\n",
       "      <td>FR</td>\n",
       "      <td>프랑스</td>\n",
       "      <td>None</td>\n",
       "      <td>67158348</td>\n",
       "      <td>('18) World Bank (최근 수정일 : 2023.12.18.)</td>\n",
       "      <td>0.36</td>\n",
       "      <td>('18) World Bank (최근 수정일 : 2023.12.18.)</td>\n",
       "      <td>None</td>\n",
       "      <td>2018</td>\n",
       "    </tr>\n",
       "  </tbody>\n",
       "</table>\n",
       "</div>"
      ],
      "text/plain": [
       "  country_eng_nm country_iso_alp2 country_nm popltn_cn  popltn_cnt  \\\n",
       "0         France               FR        프랑스      None    67388001   \n",
       "1         France               FR        프랑스      None    67158348   \n",
       "\n",
       "                            popltn_cnt_src  popltn_growth  \\\n",
       "0  ('19) World Bank (최근 수정일 : 2023.12.18.)           0.34   \n",
       "1  ('18) World Bank (최근 수정일 : 2023.12.18.)           0.36   \n",
       "\n",
       "                         popltn_growth_src popltn_month  popltn_year  \n",
       "0  ('19) World Bank (최근 수정일 : 2023.12.18.)         None         2019  \n",
       "1  ('18) World Bank (최근 수정일 : 2023.12.18.)         None         2018  "
      ]
     },
     "execution_count": 55,
     "metadata": {},
     "output_type": "execute_result"
    }
   ],
   "source": [
    "api_load('프랑스')"
   ]
  },
  {
   "cell_type": "code",
   "execution_count": null,
   "metadata": {},
   "outputs": [],
   "source": [
    "import json"
   ]
  },
  {
   "cell_type": "code",
   "execution_count": null,
   "metadata": {},
   "outputs": [],
   "source": [
    "res_data = json.loads(response.text)"
   ]
  },
  {
   "cell_type": "code",
   "execution_count": null,
   "metadata": {},
   "outputs": [],
   "source": [
    "pprint(res_data['data'])"
   ]
  },
  {
   "cell_type": "code",
   "execution_count": 51,
   "metadata": {},
   "outputs": [],
   "source": [
    "df = pd.DataFrame(res_data['data'])"
   ]
  },
  {
   "cell_type": "code",
   "execution_count": 52,
   "metadata": {},
   "outputs": [],
   "source": [
    "# 데이터프레임을 csv로 저장\n",
    "df.to_csv(\"test.csv\")"
   ]
  },
  {
   "cell_type": "code",
   "execution_count": null,
   "metadata": {},
   "outputs": [],
   "source": []
  }
 ],
 "metadata": {
  "kernelspec": {
   "display_name": "Python 3",
   "language": "python",
   "name": "python3"
  },
  "language_info": {
   "codemirror_mode": {
    "name": "ipython",
    "version": 3
   },
   "file_extension": ".py",
   "mimetype": "text/x-python",
   "name": "python",
   "nbconvert_exporter": "python",
   "pygments_lexer": "ipython3",
   "version": "3.11.4"
  }
 },
 "nbformat": 4,
 "nbformat_minor": 2
}
