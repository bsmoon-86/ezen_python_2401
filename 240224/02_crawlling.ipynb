{
 "cells": [
  {
   "cell_type": "markdown",
   "metadata": {},
   "source": [
    "- 웹 스크래핑, 웹 크롤링\n",
    "    - 웹 스크래핑 \n",
    "        - 웹 페이지에서 특정한 부위의 데이터를 가져오는 작업\n",
    "    - 웹 크롤링\n",
    "        - 하나의 페이지가 아닌 여러 페이지에서 데이터를 가져오는 작업\n",
    "\n",
    "- 크롤링에서 사용할 라이브러리 목록\n",
    "    - requests 라이브러리 \n",
    "    - bs4 라이브러리\n",
    "        - 해당 라이브러리에서 BeautifulSoup Class를 사용\n",
    "        - html로 이루어져있는 문자열을 parsing 작업하여 데이터를 쉽게 추출할 수 있도록 도와주는 기능\n",
    "        - html의 Tag를 기준으로 데이터를 추출\n",
    "        - Parser를 활용해서 파이썬에서 접근이 쉽게 하도록 객체 형태로 제공\n",
    "    - selenium 라이브러리 \n",
    "        - 웹 어플리케이션을 테스트하기 위해 만들어진 라이브러리\n",
    "        - 웹 브라우져를 python의 함수로 제어"
   ]
  },
  {
   "cell_type": "code",
   "execution_count": null,
   "metadata": {},
   "outputs": [],
   "source": [
    "!pip install bs4"
   ]
  },
  {
   "cell_type": "code",
   "execution_count": null,
   "metadata": {},
   "outputs": [],
   "source": [
    "import requests\n",
    "from bs4 import BeautifulSoup as bs"
   ]
  },
  {
   "cell_type": "code",
   "execution_count": null,
   "metadata": {},
   "outputs": [],
   "source": [
    "res = requests.get(\"https://www.naver.com\")\n"
   ]
  },
  {
   "cell_type": "code",
   "execution_count": null,
   "metadata": {},
   "outputs": [],
   "source": [
    "print(res.text)"
   ]
  },
  {
   "cell_type": "code",
   "execution_count": null,
   "metadata": {},
   "outputs": [],
   "source": [
    "html_data = res.text"
   ]
  },
  {
   "cell_type": "code",
   "execution_count": null,
   "metadata": {},
   "outputs": [],
   "source": [
    "html_data"
   ]
  },
  {
   "cell_type": "code",
   "execution_count": null,
   "metadata": {},
   "outputs": [],
   "source": [
    "# html 문서에서 네이버를 찾아보자\n",
    "html_data.find('네이버')"
   ]
  },
  {
   "cell_type": "code",
   "execution_count": null,
   "metadata": {},
   "outputs": [],
   "source": [
    "html_data[378:410]"
   ]
  },
  {
   "cell_type": "code",
   "execution_count": null,
   "metadata": {},
   "outputs": [],
   "source": [
    "# BeautifulSoup을 이용하여 태그들을 객체화\n",
    "soup = bs(html_data, 'html.parser')"
   ]
  },
  {
   "cell_type": "markdown",
   "metadata": {},
   "source": [
    "- 태그의 이름을 기준으로 검색 \n",
    "    - soup.태그명 : HTML 문서에서 해당 태그의 첫번째 정보를 출력\n",
    "    - soup.태그명.string : 첫번째 태그에서 문자만 출력\n",
    "    - soup.태그명['속성명'] : 첫번째 태그에서 속성의 값을 출력"
   ]
  },
  {
   "cell_type": "code",
   "execution_count": null,
   "metadata": {},
   "outputs": [],
   "source": [
    "soup.a"
   ]
  },
  {
   "cell_type": "code",
   "execution_count": null,
   "metadata": {},
   "outputs": [],
   "source": [
    "soup.a.string"
   ]
  },
  {
   "cell_type": "code",
   "execution_count": null,
   "metadata": {},
   "outputs": [],
   "source": [
    "soup.a['href']"
   ]
  },
  {
   "cell_type": "markdown",
   "metadata": {},
   "source": [
    "- find({태그명})\n",
    "    - HTML 문자열에서 해당 태그의 첫번째 정보를 출력 \n",
    "    - find(속성명 = 속성의 값) : 태그들 중에서 해당 속성명과 속성값인 첫번째 태그의 정보를 출력\n",
    "- find_all({태그명})\n",
    "    - HTML 문자열에서 해당 태그의 모든 정보를 리스트의 형태로 출력\n",
    "    - attrs 매개변수 : { 속성명 : 속성값 }을 넣어주면 해당 태그중 들 속성명과 속성값이 같은 태그들을 선택\n",
    "    - limit 매개변수 : 리스트의 길이의 제한 "
   ]
  },
  {
   "cell_type": "code",
   "execution_count": null,
   "metadata": {},
   "outputs": [],
   "source": [
    "a_list = soup.find_all('a')"
   ]
  },
  {
   "cell_type": "code",
   "execution_count": null,
   "metadata": {},
   "outputs": [],
   "source": [
    "a_data = soup.find('a')"
   ]
  },
  {
   "cell_type": "code",
   "execution_count": null,
   "metadata": {},
   "outputs": [],
   "source": [
    "print(type(a_data))\n",
    "print(type(a_list))"
   ]
  },
  {
   "cell_type": "code",
   "execution_count": null,
   "metadata": {},
   "outputs": [],
   "source": [
    "a_data.find('span').get_text()"
   ]
  },
  {
   "cell_type": "code",
   "execution_count": null,
   "metadata": {},
   "outputs": [],
   "source": [
    "type(a_list[1])"
   ]
  },
  {
   "cell_type": "code",
   "execution_count": null,
   "metadata": {},
   "outputs": [],
   "source": [
    "# a_list에 있는 모든 문자를 새로운 배열에 담아보자 \n",
    "a_result = []\n",
    "\n",
    "for i in a_list:\n",
    "    # print(type(i))\n",
    "    # print(i.get_text())\n",
    "    a_result.append(i.get_text())\n",
    "a_result"
   ]
  },
  {
   "cell_type": "code",
   "execution_count": 32,
   "metadata": {},
   "outputs": [
    {
     "data": {
      "text/plain": [
       "['상단영역 바로가기',\n",
       " '서비스 메뉴 바로가기',\n",
       " '새소식 블록 바로가기',\n",
       " '쇼핑 블록 바로가기',\n",
       " '관심사 블록 바로가기',\n",
       " 'MY 영역 바로가기',\n",
       " '위젯 보드 바로가기',\n",
       " '보기 설정 바로가기',\n",
       " '전체삭제',\n",
       " '도움말',\n",
       " '도움말',\n",
       " '자동저장 끄기',\n",
       " '도움말',\n",
       " '닫기',\n",
       " '이 정보가 표시된 이유',\n",
       " '레이어 닫기',\n",
       " '자세히보기',\n",
       " '관심사를 반영한 컨텍스트 자동완성도움말',\n",
       " '컨텍스트 자동완성',\n",
       " '자세히 보기',\n",
       " '자세히 보기',\n",
       " '네이버로그인',\n",
       " '컨텍스트 자동완성 레이어 닫기',\n",
       " '자동완성 끄기',\n",
       " '도움말',\n",
       " '신고',\n",
       " '닫기']"
      ]
     },
     "execution_count": 32,
     "metadata": {},
     "output_type": "execute_result"
    }
   ],
   "source": [
    "list(\n",
    "    map(\n",
    "        lambda x : x.get_text(), \n",
    "        a_list\n",
    "    )\n",
    ")"
   ]
  }
 ],
 "metadata": {
  "kernelspec": {
   "display_name": "Python 3",
   "language": "python",
   "name": "python3"
  },
  "language_info": {
   "codemirror_mode": {
    "name": "ipython",
    "version": 3
   },
   "file_extension": ".py",
   "mimetype": "text/x-python",
   "name": "python",
   "nbconvert_exporter": "python",
   "pygments_lexer": "ipython3",
   "version": "3.11.4"
  }
 },
 "nbformat": 4,
 "nbformat_minor": 2
}
